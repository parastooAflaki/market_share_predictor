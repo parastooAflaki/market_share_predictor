{
 "cells": [
  {
   "cell_type": "code",
   "execution_count": 16,
   "metadata": {
    "pycharm": {
     "is_executing": false,
     "name": "#%%\n"
    }
   },
   "outputs": [],
   "source": [
    "import pandas as pd\n",
    "import matplotlib.pyplot as plt\n",
    "import numpy as np\n",
    "import sklearn\n",
    "from sklearn.model_selection import train_test_split\n",
    "from sklearn.linear_model import LinearRegression\n",
    "from sklearn.model_selection import cross_val_score\n",
    "from sklearn.metrics import r2_score , mean_absolute_error"
   ]
  },
  {
   "cell_type": "code",
   "execution_count": 17,
   "metadata": {
    "pycharm": {
     "is_executing": false,
     "name": "#%%\n"
    }
   },
   "outputs": [],
   "source": [
    "train_df = pd.read_csv('data.csv')\n",
    "test_df = pd.read_csv('test.csv')\n"
   ]
  },
  {
   "cell_type": "code",
   "execution_count": 18,
   "metadata": {
    "pycharm": {
     "is_executing": false,
     "name": "#%%\n"
    }
   },
   "outputs": [],
   "source": [
    "def generate_index(list):\n",
    "    return {value: key for key, value in enumerate(list, 1)}\n",
    "\n",
    "\n",
    "def dropExtraColumns(data):\n",
    "    columns = data.columns\n",
    "    data.drop(columns[0], axis=1, inplace=True)\n",
    "    #data.drop('Temperature in Montreal during episode', axis=1, inplace=True)\n",
    "    data.drop('Name of episode', axis=1, inplace=True)\n",
    "    data.drop('Name of show', axis=1, inplace=True)\n",
    "    data.drop('Length',axis=1,inplace=True)\n",
    "    \n",
    "    \n",
    "\n",
    "def mapping(data):\n",
    "    \n",
    "    binary_map = {\"Yes\": 1, \"No\": 0}\n",
    "    episode_map = generate_index(data['Episode'].unique())\n",
    "    station_map = generate_index(data['Station'].unique())\n",
    "    season_map = generate_index(data['Season'].unique())\n",
    "    channel_map = generate_index(data['Channel Type'].unique())\n",
    "    year_map = generate_index(data[\"Year\"].unique())\n",
    "    week_map = generate_index(data['Day of week'].unique())\n",
    "    genre_map = generate_index(data['Genre'].unique())\n",
    "    date_map = generate_index(data['Date'].unique())\n",
    "\n",
    "   \n",
    "    data['Station'] = data['Station'].map(station_map)\n",
    "    data['Episode'] = data['Episode'].map(episode_map)\n",
    "    data['Channel Type'] = data['Channel Type'].map(channel_map)\n",
    "    data['Season'] = data['Season'].map(season_map)\n",
    "    data['Year'] = data[\"Year\"].map(year_map)\n",
    "    data['Day of week'] = data['Day of week'].map(week_map)\n",
    "    data['Genre'] = data['Genre'].map(genre_map)\n",
    "    data['First time or rerun'] = data['First time or rerun'].map(binary_map)\n",
    "    data['Movie?'] = data['Movie?'].map(binary_map)\n",
    "    data['# of episode in the season'] = data['# of episode in the season'].map(binary_map)\n",
    "    data['Game of the Canadiens during episode?'] = data['Game of the Canadiens during episode?'].map(binary_map)\n",
    "    data['Date'] = data['Date'].map(date_map)\n",
    " "
   ]
  },
  {
   "cell_type": "code",
   "execution_count": 19,
   "metadata": {
    "pycharm": {
     "is_executing": false,
     "name": "#%%\n"
    }
   },
   "outputs": [],
   "source": [
    "   #converting Start_time and End_time to minutes,adding Start_minutes and End_minutes column\n",
    "#then dropping the Start_time and End_time\n",
    "def processTime(data):\n",
    "    data['Start_time'] = pd.to_datetime(data['Start_time'])\n",
    "    data['Start_minutes'] = data['Start_time'].dt.hour * 60 + data['Start_time'].dt.minute + data[\n",
    "        'Start_time'].dt.second / 60\n",
    "    data['End_time'] = pd.to_datetime(data['End_time'])\n",
    "    data['End_minutes'] = data['End_time'].dt.hour * 60 + data['End_time'].dt.minute + data[\n",
    "        'End_time'].dt.second / 60\n",
    "    data.drop('Start_time', axis=1, inplace=True)\n",
    "    data.drop('End_time', axis=1, inplace=True)"
   ]
  },
  {
   "cell_type": "markdown",
   "metadata": {},
   "source": [
    "# Preprocessing"
   ]
  },
  {
   "cell_type": "code",
   "execution_count": 20,
   "metadata": {
    "pycharm": {
     "is_executing": false,
     "name": "#%%\n"
    }
   },
   "outputs": [],
   "source": [
    "#dropping decided features \n",
    "dropExtraColumns(train_df)\n",
    "dropExtraColumns(test_df)"
   ]
  },
  {
   "cell_type": "code",
   "execution_count": 21,
   "metadata": {
    "pycharm": {
     "is_executing": false,
     "name": "#%%\n"
    }
   },
   "outputs": [],
   "source": [
    "#converting non numeric datas to numeric ones\n",
    "mapping(test_df)\n",
    "mapping(train_df)"
   ]
  },
  {
   "cell_type": "code",
   "execution_count": 22,
   "metadata": {
    "pycharm": {
     "is_executing": false,
     "name": "#%%\n"
    }
   },
   "outputs": [],
   "source": [
    "#removing Nans\n",
    "train_df = train_df.dropna(axis = 0)\n",
    "test_df = test_df.dropna(axis= 0)"
   ]
  },
  {
   "cell_type": "code",
   "execution_count": 23,
   "metadata": {
    "pycharm": {
     "is_executing": false,
     "name": "#%%\n"
    }
   },
   "outputs": [],
   "source": [
    "#converting Start_time and End_time to minutes\n",
    "processTime(train_df)\n",
    "processTime(test_df)"
   ]
  },
  {
   "cell_type": "code",
   "execution_count": 24,
   "metadata": {
    "pycharm": {
     "is_executing": false,
     "name": "#%%\n"
    }
   },
   "outputs": [
    {
     "data": {
      "text/html": [
       "<div>\n",
       "<style scoped>\n",
       "    .dataframe tbody tr th:only-of-type {\n",
       "        vertical-align: middle;\n",
       "    }\n",
       "\n",
       "    .dataframe tbody tr th {\n",
       "        vertical-align: top;\n",
       "    }\n",
       "\n",
       "    .dataframe thead th {\n",
       "        text-align: right;\n",
       "    }\n",
       "</style>\n",
       "<table border=\"1\" class=\"dataframe\">\n",
       "  <thead>\n",
       "    <tr style=\"text-align: right;\">\n",
       "      <th></th>\n",
       "      <th>Episode</th>\n",
       "      <th>Station</th>\n",
       "      <th>Channel Type</th>\n",
       "      <th>Season</th>\n",
       "      <th>Year</th>\n",
       "      <th>Date</th>\n",
       "      <th>Day of week</th>\n",
       "      <th>Genre</th>\n",
       "      <th>First time or rerun</th>\n",
       "      <th># of episode in the season</th>\n",
       "      <th>Movie?</th>\n",
       "      <th>Game of the Canadiens during episode?</th>\n",
       "      <th>Market Share_total</th>\n",
       "      <th>Temperature in Montreal during episode</th>\n",
       "      <th>Start_minutes</th>\n",
       "      <th>End_minutes</th>\n",
       "    </tr>\n",
       "  </thead>\n",
       "  <tbody>\n",
       "    <tr>\n",
       "      <th>0</th>\n",
       "      <td>1</td>\n",
       "      <td>1</td>\n",
       "      <td>1</td>\n",
       "      <td>1</td>\n",
       "      <td>1</td>\n",
       "      <td>1</td>\n",
       "      <td>1</td>\n",
       "      <td>1</td>\n",
       "      <td>0</td>\n",
       "      <td>1</td>\n",
       "      <td>0</td>\n",
       "      <td>0</td>\n",
       "      <td>0.9</td>\n",
       "      <td>20.400</td>\n",
       "      <td>360.0</td>\n",
       "      <td>480.0</td>\n",
       "    </tr>\n",
       "    <tr>\n",
       "      <th>1</th>\n",
       "      <td>2</td>\n",
       "      <td>1</td>\n",
       "      <td>1</td>\n",
       "      <td>1</td>\n",
       "      <td>1</td>\n",
       "      <td>1</td>\n",
       "      <td>1</td>\n",
       "      <td>2</td>\n",
       "      <td>0</td>\n",
       "      <td>1</td>\n",
       "      <td>0</td>\n",
       "      <td>0</td>\n",
       "      <td>0.5</td>\n",
       "      <td>19.125</td>\n",
       "      <td>480.0</td>\n",
       "      <td>510.0</td>\n",
       "    </tr>\n",
       "    <tr>\n",
       "      <th>2</th>\n",
       "      <td>3</td>\n",
       "      <td>1</td>\n",
       "      <td>1</td>\n",
       "      <td>1</td>\n",
       "      <td>1</td>\n",
       "      <td>1</td>\n",
       "      <td>1</td>\n",
       "      <td>3</td>\n",
       "      <td>0</td>\n",
       "      <td>1</td>\n",
       "      <td>0</td>\n",
       "      <td>0</td>\n",
       "      <td>0.3</td>\n",
       "      <td>19.125</td>\n",
       "      <td>510.0</td>\n",
       "      <td>540.0</td>\n",
       "    </tr>\n",
       "  </tbody>\n",
       "</table>\n",
       "</div>"
      ],
      "text/plain": [
       "   Episode  Station  Channel Type  Season  Year  Date  Day of week  Genre  \\\n",
       "0        1        1             1       1     1     1            1      1   \n",
       "1        2        1             1       1     1     1            1      2   \n",
       "2        3        1             1       1     1     1            1      3   \n",
       "\n",
       "   First time or rerun  # of episode in the season  Movie?  \\\n",
       "0                    0                           1       0   \n",
       "1                    0                           1       0   \n",
       "2                    0                           1       0   \n",
       "\n",
       "   Game of the Canadiens during episode?  Market Share_total  \\\n",
       "0                                      0                 0.9   \n",
       "1                                      0                 0.5   \n",
       "2                                      0                 0.3   \n",
       "\n",
       "   Temperature in Montreal during episode  Start_minutes  End_minutes  \n",
       "0                                  20.400          360.0        480.0  \n",
       "1                                  19.125          480.0        510.0  \n",
       "2                                  19.125          510.0        540.0  "
      ]
     },
     "execution_count": 24,
     "metadata": {},
     "output_type": "execute_result"
    }
   ],
   "source": [
    "train_df.head(3)"
   ]
  },
  {
   "cell_type": "code",
   "execution_count": 25,
   "metadata": {
    "pycharm": {
     "is_executing": false,
     "name": "#%%\n"
    }
   },
   "outputs": [
    {
     "data": {
      "text/html": [
       "<div>\n",
       "<style scoped>\n",
       "    .dataframe tbody tr th:only-of-type {\n",
       "        vertical-align: middle;\n",
       "    }\n",
       "\n",
       "    .dataframe tbody tr th {\n",
       "        vertical-align: top;\n",
       "    }\n",
       "\n",
       "    .dataframe thead th {\n",
       "        text-align: right;\n",
       "    }\n",
       "</style>\n",
       "<table border=\"1\" class=\"dataframe\">\n",
       "  <thead>\n",
       "    <tr style=\"text-align: right;\">\n",
       "      <th></th>\n",
       "      <th>Episode</th>\n",
       "      <th>Station</th>\n",
       "      <th>Channel Type</th>\n",
       "      <th>Season</th>\n",
       "      <th>Year</th>\n",
       "      <th>Date</th>\n",
       "      <th>Day of week</th>\n",
       "      <th>Genre</th>\n",
       "      <th>First time or rerun</th>\n",
       "      <th># of episode in the season</th>\n",
       "      <th>Movie?</th>\n",
       "      <th>Game of the Canadiens during episode?</th>\n",
       "      <th>Temperature in Montreal during episode</th>\n",
       "      <th>Start_minutes</th>\n",
       "      <th>End_minutes</th>\n",
       "    </tr>\n",
       "  </thead>\n",
       "  <tbody>\n",
       "    <tr>\n",
       "      <th>0</th>\n",
       "      <td>1</td>\n",
       "      <td>1</td>\n",
       "      <td>1</td>\n",
       "      <td>1</td>\n",
       "      <td>1</td>\n",
       "      <td>1</td>\n",
       "      <td>1</td>\n",
       "      <td>1</td>\n",
       "      <td>0</td>\n",
       "      <td>1</td>\n",
       "      <td>0</td>\n",
       "      <td>0</td>\n",
       "      <td>-22.525</td>\n",
       "      <td>690.0</td>\n",
       "      <td>720.0</td>\n",
       "    </tr>\n",
       "    <tr>\n",
       "      <th>1</th>\n",
       "      <td>2</td>\n",
       "      <td>1</td>\n",
       "      <td>1</td>\n",
       "      <td>1</td>\n",
       "      <td>1</td>\n",
       "      <td>1</td>\n",
       "      <td>1</td>\n",
       "      <td>1</td>\n",
       "      <td>0</td>\n",
       "      <td>1</td>\n",
       "      <td>0</td>\n",
       "      <td>0</td>\n",
       "      <td>-21.625</td>\n",
       "      <td>720.0</td>\n",
       "      <td>750.0</td>\n",
       "    </tr>\n",
       "    <tr>\n",
       "      <th>2</th>\n",
       "      <td>3</td>\n",
       "      <td>1</td>\n",
       "      <td>1</td>\n",
       "      <td>1</td>\n",
       "      <td>1</td>\n",
       "      <td>1</td>\n",
       "      <td>1</td>\n",
       "      <td>1</td>\n",
       "      <td>0</td>\n",
       "      <td>1</td>\n",
       "      <td>0</td>\n",
       "      <td>0</td>\n",
       "      <td>-21.625</td>\n",
       "      <td>750.0</td>\n",
       "      <td>780.0</td>\n",
       "    </tr>\n",
       "  </tbody>\n",
       "</table>\n",
       "</div>"
      ],
      "text/plain": [
       "   Episode  Station  Channel Type  Season  Year  Date  Day of week  Genre  \\\n",
       "0        1        1             1       1     1     1            1      1   \n",
       "1        2        1             1       1     1     1            1      1   \n",
       "2        3        1             1       1     1     1            1      1   \n",
       "\n",
       "   First time or rerun  # of episode in the season  Movie?  \\\n",
       "0                    0                           1       0   \n",
       "1                    0                           1       0   \n",
       "2                    0                           1       0   \n",
       "\n",
       "   Game of the Canadiens during episode?  \\\n",
       "0                                      0   \n",
       "1                                      0   \n",
       "2                                      0   \n",
       "\n",
       "   Temperature in Montreal during episode  Start_minutes  End_minutes  \n",
       "0                                 -22.525          690.0        720.0  \n",
       "1                                 -21.625          720.0        750.0  \n",
       "2                                 -21.625          750.0        780.0  "
      ]
     },
     "execution_count": 25,
     "metadata": {},
     "output_type": "execute_result"
    }
   ],
   "source": [
    "test_df.head(3)"
   ]
  },
  {
   "cell_type": "code",
   "execution_count": 26,
   "metadata": {
    "pycharm": {
     "is_executing": false,
     "name": "#%%\n"
    }
   },
   "outputs": [],
   "source": [
    "y_train = train_df[\"Market Share_total\"]\n",
    "x_train = train_df.drop('Market Share_total', axis = 1)\n",
    "x_test = test_df"
   ]
  },
  {
   "cell_type": "code",
   "execution_count": 27,
   "metadata": {
    "pycharm": {
     "is_executing": false,
     "name": "#%%\n"
    }
   },
   "outputs": [],
   "source": [
    "from sklearn.ensemble import RandomForestRegressor\n",
    "predictor = RandomForestRegressor(n_estimators=10)\n",
    "predictor.fit(x_train,y_train)\n",
    "y_pre = predictor.predict(x_test)\n",
    "result = pd.DataFrame( {'Market Share_total':y_pre} , columns = ['Market Share_total']) \n",
    "result.to_csv('test_prediction.csv')"
   ]
  },
  {
   "cell_type": "code",
   "execution_count": 28,
   "metadata": {},
   "outputs": [
    {
     "data": {
      "text/plain": [
       "0.9829462239707079"
      ]
     },
     "execution_count": 28,
     "metadata": {},
     "output_type": "execute_result"
    }
   ],
   "source": [
    "#evaluating the model over all the train data:\n",
    "y_train_pre = predictor.predict(x_train)\n",
    "r2_score(y_train,y_train_pre)"
   ]
  },
  {
   "cell_type": "code",
   "execution_count": 29,
   "metadata": {
    "pycharm": {
     "is_executing": false
    }
   },
   "outputs": [
    {
     "data": {
      "text/plain": [
       "(130936, 1)"
      ]
     },
     "execution_count": 29,
     "metadata": {},
     "output_type": "execute_result"
    }
   ],
   "source": [
    "result.shape"
   ]
  },
  {
   "cell_type": "code",
   "execution_count": 30,
   "metadata": {
    "pycharm": {
     "is_executing": false
    }
   },
   "outputs": [
    {
     "data": {
      "text/plain": [
       "(130936, 15)"
      ]
     },
     "execution_count": 30,
     "metadata": {},
     "output_type": "execute_result"
    }
   ],
   "source": [
    "x_test.shape"
   ]
  },
  {
   "cell_type": "code",
   "execution_count": null,
   "metadata": {},
   "outputs": [],
   "source": []
  }
 ],
 "metadata": {
  "kernelspec": {
   "display_name": "Python 3",
   "language": "python",
   "name": "python3"
  },
  "language_info": {
   "codemirror_mode": {
    "name": "ipython",
    "version": 3
   },
   "file_extension": ".py",
   "mimetype": "text/x-python",
   "name": "python",
   "nbconvert_exporter": "python",
   "pygments_lexer": "ipython3",
   "version": "3.7.3"
  },
  "pycharm": {
   "stem_cell": {
    "cell_type": "raw",
    "metadata": {
     "collapsed": false
    },
    "source": []
   }
  }
 },
 "nbformat": 4,
 "nbformat_minor": 1
}
