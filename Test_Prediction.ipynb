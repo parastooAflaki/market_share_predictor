{
 "cells": [
  {
   "cell_type": "code",
   "execution_count": 29,
   "metadata": {
    "collapsed": true,
    "pycharm": {
     "is_executing": false
    }
   },
   "outputs": [],
   "source": [
    "import pandas as pd\n",
    "import matplotlib.pyplot as plt\n",
    "import seaborn as sns\n",
    "import numpy as np\n",
    "import sklearn\n",
    "from sklearn.model_selection import train_test_split\n",
    "from sklearn.linear_model import LinearRegression\n",
    "from sklearn.model_selection import cross_val_score\n",
    "from sklearn.metrics import r2_score , mean_absolute_error"
   ]
  },
  {
   "cell_type": "code",
   "execution_count": 30,
   "outputs": [],
   "source": [
    "train_df = pd.read_csv('data.csv')\n",
    "test_df = pd.read_csv('test.csv')"
   ],
   "metadata": {
    "collapsed": false,
    "pycharm": {
     "name": "#%%\n",
     "is_executing": false
    }
   }
  },
  {
   "cell_type": "code",
   "execution_count": 31,
   "outputs": [],
   "source": [
    "\n",
    "\n",
    "def generate_index(list):\n",
    "    return {value: key for key, value in enumerate(list, 1)}\n",
    "\n",
    "\n",
    "def dropExtraColumns(data):\n",
    "    columns = data.columns\n",
    "    data.drop(columns[0], axis=1, inplace=True)\n",
    "    data.drop('Temperature in Montreal during episode', axis=1, inplace=True)\n",
    "    data.drop('Name of episode', axis=1, inplace=True)\n",
    "    data.drop('Name of show', axis=1, inplace=True)\n",
    "    \n",
    "    \n",
    "\n",
    "def mapping(data):\n",
    "    binary_map = {\"Yes\": 1, \"No\": 0}\n",
    "    episode_map = generate_index(data['Episode'].unique())\n",
    "    station_map = generate_index(data['Station'].unique())\n",
    "    season_map = generate_index(data['Season'].unique())\n",
    "    channel_map = generate_index(data['Channel Type'].unique())\n",
    "    year_map = generate_index(data[\"Year\"].unique())\n",
    "    week_map = generate_index(data['Day of week'].unique())\n",
    "    genre_map = generate_index(data['Genre'].unique())\n",
    "    date_map = generate_index(data['Date'].unique())\n",
    "\n",
    "    data['Station'] = data['Station'].map(station_map)\n",
    "    data['Episode'] = data['Episode'].map(episode_map)\n",
    "    data['Channel Type'] = data['Channel Type'].map(channel_map)\n",
    "    data['Season'] = data['Season'].map(season_map)\n",
    "    data['Year'] = data[\"Year\"].map(year_map)\n",
    "    data['Day of week'] = data['Day of week'].map(week_map)\n",
    "    data['Genre'] = data['Genre'].map(genre_map)\n",
    "    data['First time or rerun'] = data['First time or rerun'].map(binary_map)\n",
    "    data['Movie?'] = data['Movie?'].map(binary_map)\n",
    "    data['# of episode in the season'] = data['# of episode in the season'].map(binary_map)\n",
    "    data['Game of the Canadiens during episode?'] = data['Game of the Canadiens during episode?'].map(binary_map)\n",
    "    data['Date'] = data['Date'].map(date_map)\n",
    "    \n",
    "\n",
    "def processTime(data):\n",
    "    data['Start_time'] = pd.to_datetime(data['Start_time'])\n",
    "    data['Start_minutes'] = data['Start_time'].dt.hour * 60 + data['Start_time'].dt.minute + data[\n",
    "        'Start_time'].dt.second / 60\n",
    "    data['End_time'] = pd.to_datetime(data['End_time'])\n",
    "    data['End_minutes'] = data['End_time'].dt.hour * 60 + data['End_time'].dt.minute + data[\n",
    "        'End_time'].dt.second / 60\n",
    "    data.drop('Start_time', axis=1, inplace=True)\n",
    "    data.drop('End_time', axis=1, inplace=True)"
   ],
   "metadata": {
    "collapsed": false,
    "pycharm": {
     "name": "#%%\n",
     "is_executing": false
    }
   }
  },
  {
   "cell_type": "code",
   "execution_count": null,
   "outputs": [],
   "source": [
    "dropExtraColumns(train_df)\n",
    "dropExtraColumns(test_df)"
   ],
   "metadata": {
    "collapsed": false,
    "pycharm": {
     "name": "#%%\n"
    }
   }
  },
  {
   "cell_type": "code",
   "execution_count": 33,
   "outputs": [],
   "source": [
    "mapping(test_df)\n",
    "mapping(train_df)"
   ],
   "metadata": {
    "collapsed": false,
    "pycharm": {
     "name": "#%%\n",
     "is_executing": false
    }
   }
  },
  {
   "cell_type": "code",
   "execution_count": 34,
   "outputs": [
    {
     "data": {
      "text/plain": "Episode                                  0\nStation                                  0\nChannel Type                             0\nSeason                                   0\nYear                                     0\nDate                                     0\nDay of week                              0\nStart_time                               0\nEnd_time                                 0\nLength                                   0\nGenre                                    0\nFirst time or rerun                      0\n# of episode in the season               0\nMovie?                                   0\nGame of the Canadiens during episode?    0\nMarket Share_total                       0\ndtype: int64"
     },
     "metadata": {},
     "output_type": "execute_result",
     "execution_count": 34
    }
   ],
   "source": [
    "train_df = train_df.dropna(axis = 0)\n",
    "test_df = test_df.dropna(axis= 0)"
   ],
   "metadata": {
    "collapsed": false,
    "pycharm": {
     "name": "#%%\n",
     "is_executing": false
    }
   }
  },
  {
   "cell_type": "code",
   "execution_count": 35,
   "outputs": [],
   "source": [
    "processTime(train_df)\n",
    "processTime(test_df)"
   ],
   "metadata": {
    "collapsed": false,
    "pycharm": {
     "name": "#%%\n",
     "is_executing": false
    }
   }
  },
  {
   "cell_type": "code",
   "execution_count": 36,
   "outputs": [
    {
     "data": {
      "text/plain": "        Episode  Station  Channel Type  Season  Year  Date  Day of week  \\\n0             1        1             1       1     1     1            1   \n1             2        1             1       1     1     1            1   \n2             3        1             1       1     1     1            1   \n3             4        1             1       1     1     1            1   \n4             5        1             1       1     1     1            1   \n...         ...      ...           ...     ...   ...   ...          ...   \n616651     1276       20             2       2     4   877            2   \n616652     2580       20             2       2     4   877            2   \n616653     6605       20             2       2     4   877            2   \n616654     6605       20             2       2     4   877            2   \n616655     6590       20             2       2     4   877            2   \n\n        Length  Genre  First time or rerun  # of episode in the season  \\\n0            8      1                    0                           1   \n1            2      2                    0                           1   \n2            2      3                    0                           1   \n3            4      4                    0                           1   \n4            2      5                    0                           1   \n...        ...    ...                  ...                         ...   \n616651       2      7                    0                           1   \n616652       2      7                    0                           1   \n616653       4     22                    0                           1   \n616654       4     22                    0                           1   \n616655       2     22                    0                           1   \n\n        Movie?  Game of the Canadiens during episode?  Market Share_total  \\\n0            0                                      0                 0.9   \n1            0                                      0                 0.5   \n2            0                                      0                 0.3   \n3            0                                      0                 1.7   \n4            0                                      0                 2.2   \n...        ...                                    ...                 ...   \n616651       0                                      0                 0.0   \n616652       0                                      0                 1.1   \n616653       0                                      0                 0.3   \n616654       0                                      0                 0.4   \n616655       0                                      0                 1.6   \n\n        Start_minutes  End_minutes  \n0               360.0        480.0  \n1               480.0        510.0  \n2               510.0        540.0  \n3               540.0        600.0  \n4               600.0        630.0  \n...               ...          ...  \n616651          480.0        510.0  \n616652          510.0        540.0  \n616653          540.0        600.0  \n616654          600.0        660.0  \n616655          660.0        690.0  \n\n[616613 rows x 16 columns]",
      "text/html": "<div>\n<style scoped>\n    .dataframe tbody tr th:only-of-type {\n        vertical-align: middle;\n    }\n\n    .dataframe tbody tr th {\n        vertical-align: top;\n    }\n\n    .dataframe thead th {\n        text-align: right;\n    }\n</style>\n<table border=\"1\" class=\"dataframe\">\n  <thead>\n    <tr style=\"text-align: right;\">\n      <th></th>\n      <th>Episode</th>\n      <th>Station</th>\n      <th>Channel Type</th>\n      <th>Season</th>\n      <th>Year</th>\n      <th>Date</th>\n      <th>Day of week</th>\n      <th>Length</th>\n      <th>Genre</th>\n      <th>First time or rerun</th>\n      <th># of episode in the season</th>\n      <th>Movie?</th>\n      <th>Game of the Canadiens during episode?</th>\n      <th>Market Share_total</th>\n      <th>Start_minutes</th>\n      <th>End_minutes</th>\n    </tr>\n  </thead>\n  <tbody>\n    <tr>\n      <th>0</th>\n      <td>1</td>\n      <td>1</td>\n      <td>1</td>\n      <td>1</td>\n      <td>1</td>\n      <td>1</td>\n      <td>1</td>\n      <td>8</td>\n      <td>1</td>\n      <td>0</td>\n      <td>1</td>\n      <td>0</td>\n      <td>0</td>\n      <td>0.9</td>\n      <td>360.0</td>\n      <td>480.0</td>\n    </tr>\n    <tr>\n      <th>1</th>\n      <td>2</td>\n      <td>1</td>\n      <td>1</td>\n      <td>1</td>\n      <td>1</td>\n      <td>1</td>\n      <td>1</td>\n      <td>2</td>\n      <td>2</td>\n      <td>0</td>\n      <td>1</td>\n      <td>0</td>\n      <td>0</td>\n      <td>0.5</td>\n      <td>480.0</td>\n      <td>510.0</td>\n    </tr>\n    <tr>\n      <th>2</th>\n      <td>3</td>\n      <td>1</td>\n      <td>1</td>\n      <td>1</td>\n      <td>1</td>\n      <td>1</td>\n      <td>1</td>\n      <td>2</td>\n      <td>3</td>\n      <td>0</td>\n      <td>1</td>\n      <td>0</td>\n      <td>0</td>\n      <td>0.3</td>\n      <td>510.0</td>\n      <td>540.0</td>\n    </tr>\n    <tr>\n      <th>3</th>\n      <td>4</td>\n      <td>1</td>\n      <td>1</td>\n      <td>1</td>\n      <td>1</td>\n      <td>1</td>\n      <td>1</td>\n      <td>4</td>\n      <td>4</td>\n      <td>0</td>\n      <td>1</td>\n      <td>0</td>\n      <td>0</td>\n      <td>1.7</td>\n      <td>540.0</td>\n      <td>600.0</td>\n    </tr>\n    <tr>\n      <th>4</th>\n      <td>5</td>\n      <td>1</td>\n      <td>1</td>\n      <td>1</td>\n      <td>1</td>\n      <td>1</td>\n      <td>1</td>\n      <td>2</td>\n      <td>5</td>\n      <td>0</td>\n      <td>1</td>\n      <td>0</td>\n      <td>0</td>\n      <td>2.2</td>\n      <td>600.0</td>\n      <td>630.0</td>\n    </tr>\n    <tr>\n      <th>...</th>\n      <td>...</td>\n      <td>...</td>\n      <td>...</td>\n      <td>...</td>\n      <td>...</td>\n      <td>...</td>\n      <td>...</td>\n      <td>...</td>\n      <td>...</td>\n      <td>...</td>\n      <td>...</td>\n      <td>...</td>\n      <td>...</td>\n      <td>...</td>\n      <td>...</td>\n      <td>...</td>\n    </tr>\n    <tr>\n      <th>616651</th>\n      <td>1276</td>\n      <td>20</td>\n      <td>2</td>\n      <td>2</td>\n      <td>4</td>\n      <td>877</td>\n      <td>2</td>\n      <td>2</td>\n      <td>7</td>\n      <td>0</td>\n      <td>1</td>\n      <td>0</td>\n      <td>0</td>\n      <td>0.0</td>\n      <td>480.0</td>\n      <td>510.0</td>\n    </tr>\n    <tr>\n      <th>616652</th>\n      <td>2580</td>\n      <td>20</td>\n      <td>2</td>\n      <td>2</td>\n      <td>4</td>\n      <td>877</td>\n      <td>2</td>\n      <td>2</td>\n      <td>7</td>\n      <td>0</td>\n      <td>1</td>\n      <td>0</td>\n      <td>0</td>\n      <td>1.1</td>\n      <td>510.0</td>\n      <td>540.0</td>\n    </tr>\n    <tr>\n      <th>616653</th>\n      <td>6605</td>\n      <td>20</td>\n      <td>2</td>\n      <td>2</td>\n      <td>4</td>\n      <td>877</td>\n      <td>2</td>\n      <td>4</td>\n      <td>22</td>\n      <td>0</td>\n      <td>1</td>\n      <td>0</td>\n      <td>0</td>\n      <td>0.3</td>\n      <td>540.0</td>\n      <td>600.0</td>\n    </tr>\n    <tr>\n      <th>616654</th>\n      <td>6605</td>\n      <td>20</td>\n      <td>2</td>\n      <td>2</td>\n      <td>4</td>\n      <td>877</td>\n      <td>2</td>\n      <td>4</td>\n      <td>22</td>\n      <td>0</td>\n      <td>1</td>\n      <td>0</td>\n      <td>0</td>\n      <td>0.4</td>\n      <td>600.0</td>\n      <td>660.0</td>\n    </tr>\n    <tr>\n      <th>616655</th>\n      <td>6590</td>\n      <td>20</td>\n      <td>2</td>\n      <td>2</td>\n      <td>4</td>\n      <td>877</td>\n      <td>2</td>\n      <td>2</td>\n      <td>22</td>\n      <td>0</td>\n      <td>1</td>\n      <td>0</td>\n      <td>0</td>\n      <td>1.6</td>\n      <td>660.0</td>\n      <td>690.0</td>\n    </tr>\n  </tbody>\n</table>\n<p>616613 rows × 16 columns</p>\n</div>"
     },
     "metadata": {},
     "output_type": "execute_result",
     "execution_count": 36
    }
   ],
   "source": [
    "train_df"
   ],
   "metadata": {
    "collapsed": false,
    "pycharm": {
     "name": "#%%\n",
     "is_executing": false
    }
   }
  },
  {
   "cell_type": "code",
   "execution_count": 37,
   "outputs": [
    {
     "data": {
      "text/plain": "        Episode  Station  Channel Type  Season  Year  Date  Day of week  \\\n0             1        1             1       1     1     1            1   \n1             2        1             1       1     1     1            1   \n2             3        1             1       1     1     1            1   \n3             4        1             1       1     1     1            1   \n4             5        1             1       1     1     1            1   \n...         ...      ...           ...     ...   ...   ...          ...   \n154160      647        3             1       3     1   216            6   \n154161      646        3             1       3     1   216            6   \n154162      454        3             1       3     1   216            6   \n154163     1774        3             1       3     1   216            6   \n154164      644        3             1       3     1   216            6   \n\n        Length  Genre  First time or rerun  # of episode in the season  \\\n0            2      1                    0                           1   \n1            2      1                    0                           1   \n2            2      1                    0                           1   \n3            4      2                    1                           1   \n4            4      2                    0                           1   \n...        ...    ...                  ...                         ...   \n154160       4      8                    0                           1   \n154161       4     11                    0                           1   \n154162       6      9                    0                           1   \n154163      10      9                    0                           1   \n154164       8      9                    0                           1   \n\n        Movie?  Game of the Canadiens during episode?  Start_minutes  \\\n0            0                                      0          690.0   \n1            0                                      0          720.0   \n2            0                                      0          750.0   \n3            0                                      0          780.0   \n4            0                                      0          840.0   \n...        ...                                    ...            ...   \n154160       0                                      0         1080.0   \n154161       0                                      0         1140.0   \n154162       1                                      0         1200.0   \n154163       1                                      0         1290.0   \n154164       1                                      0            0.0   \n\n        End_minutes  \n0             720.0  \n1             750.0  \n2             780.0  \n3             840.0  \n4             900.0  \n...             ...  \n154160       1140.0  \n154161       1200.0  \n154162       1290.0  \n154163          0.0  \n154164        120.0  \n\n[154143 rows x 15 columns]",
      "text/html": "<div>\n<style scoped>\n    .dataframe tbody tr th:only-of-type {\n        vertical-align: middle;\n    }\n\n    .dataframe tbody tr th {\n        vertical-align: top;\n    }\n\n    .dataframe thead th {\n        text-align: right;\n    }\n</style>\n<table border=\"1\" class=\"dataframe\">\n  <thead>\n    <tr style=\"text-align: right;\">\n      <th></th>\n      <th>Episode</th>\n      <th>Station</th>\n      <th>Channel Type</th>\n      <th>Season</th>\n      <th>Year</th>\n      <th>Date</th>\n      <th>Day of week</th>\n      <th>Length</th>\n      <th>Genre</th>\n      <th>First time or rerun</th>\n      <th># of episode in the season</th>\n      <th>Movie?</th>\n      <th>Game of the Canadiens during episode?</th>\n      <th>Start_minutes</th>\n      <th>End_minutes</th>\n    </tr>\n  </thead>\n  <tbody>\n    <tr>\n      <th>0</th>\n      <td>1</td>\n      <td>1</td>\n      <td>1</td>\n      <td>1</td>\n      <td>1</td>\n      <td>1</td>\n      <td>1</td>\n      <td>2</td>\n      <td>1</td>\n      <td>0</td>\n      <td>1</td>\n      <td>0</td>\n      <td>0</td>\n      <td>690.0</td>\n      <td>720.0</td>\n    </tr>\n    <tr>\n      <th>1</th>\n      <td>2</td>\n      <td>1</td>\n      <td>1</td>\n      <td>1</td>\n      <td>1</td>\n      <td>1</td>\n      <td>1</td>\n      <td>2</td>\n      <td>1</td>\n      <td>0</td>\n      <td>1</td>\n      <td>0</td>\n      <td>0</td>\n      <td>720.0</td>\n      <td>750.0</td>\n    </tr>\n    <tr>\n      <th>2</th>\n      <td>3</td>\n      <td>1</td>\n      <td>1</td>\n      <td>1</td>\n      <td>1</td>\n      <td>1</td>\n      <td>1</td>\n      <td>2</td>\n      <td>1</td>\n      <td>0</td>\n      <td>1</td>\n      <td>0</td>\n      <td>0</td>\n      <td>750.0</td>\n      <td>780.0</td>\n    </tr>\n    <tr>\n      <th>3</th>\n      <td>4</td>\n      <td>1</td>\n      <td>1</td>\n      <td>1</td>\n      <td>1</td>\n      <td>1</td>\n      <td>1</td>\n      <td>4</td>\n      <td>2</td>\n      <td>1</td>\n      <td>1</td>\n      <td>0</td>\n      <td>0</td>\n      <td>780.0</td>\n      <td>840.0</td>\n    </tr>\n    <tr>\n      <th>4</th>\n      <td>5</td>\n      <td>1</td>\n      <td>1</td>\n      <td>1</td>\n      <td>1</td>\n      <td>1</td>\n      <td>1</td>\n      <td>4</td>\n      <td>2</td>\n      <td>0</td>\n      <td>1</td>\n      <td>0</td>\n      <td>0</td>\n      <td>840.0</td>\n      <td>900.0</td>\n    </tr>\n    <tr>\n      <th>...</th>\n      <td>...</td>\n      <td>...</td>\n      <td>...</td>\n      <td>...</td>\n      <td>...</td>\n      <td>...</td>\n      <td>...</td>\n      <td>...</td>\n      <td>...</td>\n      <td>...</td>\n      <td>...</td>\n      <td>...</td>\n      <td>...</td>\n      <td>...</td>\n      <td>...</td>\n    </tr>\n    <tr>\n      <th>154160</th>\n      <td>647</td>\n      <td>3</td>\n      <td>1</td>\n      <td>3</td>\n      <td>1</td>\n      <td>216</td>\n      <td>6</td>\n      <td>4</td>\n      <td>8</td>\n      <td>0</td>\n      <td>1</td>\n      <td>0</td>\n      <td>0</td>\n      <td>1080.0</td>\n      <td>1140.0</td>\n    </tr>\n    <tr>\n      <th>154161</th>\n      <td>646</td>\n      <td>3</td>\n      <td>1</td>\n      <td>3</td>\n      <td>1</td>\n      <td>216</td>\n      <td>6</td>\n      <td>4</td>\n      <td>11</td>\n      <td>0</td>\n      <td>1</td>\n      <td>0</td>\n      <td>0</td>\n      <td>1140.0</td>\n      <td>1200.0</td>\n    </tr>\n    <tr>\n      <th>154162</th>\n      <td>454</td>\n      <td>3</td>\n      <td>1</td>\n      <td>3</td>\n      <td>1</td>\n      <td>216</td>\n      <td>6</td>\n      <td>6</td>\n      <td>9</td>\n      <td>0</td>\n      <td>1</td>\n      <td>1</td>\n      <td>0</td>\n      <td>1200.0</td>\n      <td>1290.0</td>\n    </tr>\n    <tr>\n      <th>154163</th>\n      <td>1774</td>\n      <td>3</td>\n      <td>1</td>\n      <td>3</td>\n      <td>1</td>\n      <td>216</td>\n      <td>6</td>\n      <td>10</td>\n      <td>9</td>\n      <td>0</td>\n      <td>1</td>\n      <td>1</td>\n      <td>0</td>\n      <td>1290.0</td>\n      <td>0.0</td>\n    </tr>\n    <tr>\n      <th>154164</th>\n      <td>644</td>\n      <td>3</td>\n      <td>1</td>\n      <td>3</td>\n      <td>1</td>\n      <td>216</td>\n      <td>6</td>\n      <td>8</td>\n      <td>9</td>\n      <td>0</td>\n      <td>1</td>\n      <td>1</td>\n      <td>0</td>\n      <td>0.0</td>\n      <td>120.0</td>\n    </tr>\n  </tbody>\n</table>\n<p>154143 rows × 15 columns</p>\n</div>"
     },
     "metadata": {},
     "output_type": "execute_result",
     "execution_count": 37
    }
   ],
   "source": [
    "test_df"
   ],
   "metadata": {
    "collapsed": false,
    "pycharm": {
     "name": "#%%\n",
     "is_executing": false
    }
   }
  },
  {
   "cell_type": "code",
   "execution_count": 38,
   "outputs": [],
   "source": [
    "y_train = train_df[\"Market Share_total\"]\n",
    "x_train = train_df.drop('Market Share_total', axis = 1)\n",
    "x_test = test_df"
   ],
   "metadata": {
    "collapsed": false,
    "pycharm": {
     "name": "#%%\n",
     "is_executing": false
    }
   }
  },
  {
   "cell_type": "code",
   "execution_count": 42,
   "outputs": [],
   "source": [
    "from sklearn.ensemble import RandomForestRegressor\n",
    "predictor = RandomForestRegressor()\n"
   ],
   "metadata": {
    "collapsed": false,
    "pycharm": {
     "name": "#%%\n",
     "is_executing": false
    }
   }
  },
  {
   "cell_type": "code",
   "execution_count": 7,
   "outputs": [],
   "source": [
    "\n",
    "\n",
    "\n"
   ],
   "metadata": {
    "collapsed": false,
    "pycharm": {
     "name": "#%%\n",
     "is_executing": false
    }
   }
  }
 ],
 "metadata": {
  "language_info": {
   "codemirror_mode": {
    "name": "ipython",
    "version": 2
   },
   "file_extension": ".py",
   "mimetype": "text/x-python",
   "name": "python",
   "nbconvert_exporter": "python",
   "pygments_lexer": "ipython2",
   "version": "2.7.6"
  },
  "kernelspec": {
   "name": "python3",
   "language": "python",
   "display_name": "Python 3"
  },
  "pycharm": {
   "stem_cell": {
    "cell_type": "raw",
    "source": [],
    "metadata": {
     "collapsed": false
    }
   }
  }
 },
 "nbformat": 4,
 "nbformat_minor": 0
}