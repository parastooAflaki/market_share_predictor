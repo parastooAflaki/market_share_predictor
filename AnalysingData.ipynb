{
 "cells": [
  {
   "cell_type": "code",
   "execution_count": 25,
   "metadata": {
    "pycharm": {
     "is_executing": false,
     "name": "#%%\n"
    }
   },
   "outputs": [],
   "source": [
    "import pandas as pd\n",
    "import matplotlib.pyplot as plt\n",
    "import seaborn as sns\n",
    "import numpy as np"
   ]
  },
  {
   "cell_type": "code",
   "execution_count": 9,
   "metadata": {
    "pycharm": {
     "is_executing": false,
     "name": "#%%\n"
    }
   },
   "outputs": [],
   "source": [
    "data = pd.read_csv('data.csv')"
   ]
  },
  {
   "cell_type": "code",
   "execution_count": 13,
   "metadata": {
    "pycharm": {
     "is_executing": false,
     "name": "#%%\n"
    }
   },
   "outputs": [
    {
     "data": {
      "text/plain": [
       "20"
      ]
     },
     "execution_count": 13,
     "metadata": {},
     "output_type": "execute_result"
    }
   ],
   "source": [
    "columns = data.columns\n",
    "len(columns)"
   ]
  },
  {
   "cell_type": "code",
   "execution_count": 14,
   "metadata": {
    "pycharm": {
     "is_executing": false,
     "name": "#%%\n"
    }
   },
   "outputs": [
    {
     "data": {
      "text/plain": [
       "Index(['Unnamed: 0', 'Episode', 'Station', 'Channel Type', 'Season', 'Year',\n",
       "       'Date', 'Day of week', 'Start_time', 'End_time', 'Length',\n",
       "       'Name of show', 'Name of episode', 'Genre', 'First time or rerun',\n",
       "       '# of episode in the season', 'Movie?',\n",
       "       'Game of the Canadiens during episode?', 'Market Share_total',\n",
       "       'Temperature in Montreal during episode'],\n",
       "      dtype='object')"
      ]
     },
     "execution_count": 14,
     "metadata": {},
     "output_type": "execute_result"
    }
   ],
   "source": [
    "columns"
   ]
  },
  {
   "cell_type": "code",
   "execution_count": 15,
   "metadata": {
    "pycharm": {
     "is_executing": false,
     "name": "#%%\n"
    }
   },
   "outputs": [
    {
     "name": "stdout",
     "output_type": "stream",
     "text": [
      " Unnamed: 0\t616656 \n",
      " Episode\t6687 \n",
      " Station\t24 \n",
      " Channel Type\t2 \n",
      " Season\t4 \n",
      " Year\t4 \n",
      " Date\t877 \n",
      " Day of week\t7 \n",
      " Start_time\t138322 \n",
      " End_time\t138334 \n",
      " Length\t39 \n",
      " Name of show\t6687 \n",
      " Name of episode\t86557 \n",
      " Genre\t27 \n",
      " First time or rerun\t2 \n",
      " # of episode in the season\t2 \n",
      " Movie?\t2 \n",
      " Game of the Canadiens during episode?\t2 \n",
      " Market Share_total\t545 \n",
      " Temperature in Montreal during episode\t11829 \n"
     ]
    }
   ],
   "source": [
    "for i in range (len(columns)) :\n",
    "     print(\" {}\\t{} \".format(columns[i] ,len(data[columns[i]].unique())))     "
   ]
  },
  {
   "cell_type": "code",
   "execution_count": 16,
   "metadata": {
    "pycharm": {
     "is_executing": false,
     "name": "#%%\n"
    }
   },
   "outputs": [
    {
     "data": {
      "text/html": [
       "<div>\n",
       "<style scoped>\n",
       "    .dataframe tbody tr th:only-of-type {\n",
       "        vertical-align: middle;\n",
       "    }\n",
       "\n",
       "    .dataframe tbody tr th {\n",
       "        vertical-align: top;\n",
       "    }\n",
       "\n",
       "    .dataframe thead th {\n",
       "        text-align: right;\n",
       "    }\n",
       "</style>\n",
       "<table border=\"1\" class=\"dataframe\">\n",
       "  <thead>\n",
       "    <tr style=\"text-align: right;\">\n",
       "      <th></th>\n",
       "      <th>Total</th>\n",
       "      <th>Percent</th>\n",
       "    </tr>\n",
       "  </thead>\n",
       "  <tbody>\n",
       "    <tr>\n",
       "      <th>Name of episode</th>\n",
       "      <td>222579</td>\n",
       "      <td>0.360945</td>\n",
       "    </tr>\n",
       "    <tr>\n",
       "      <th>Temperature in Montreal during episode</th>\n",
       "      <td>83344</td>\n",
       "      <td>0.135155</td>\n",
       "    </tr>\n",
       "    <tr>\n",
       "      <th>Start_time</th>\n",
       "      <td>43</td>\n",
       "      <td>0.000070</td>\n",
       "    </tr>\n",
       "    <tr>\n",
       "      <th>End_time</th>\n",
       "      <td>43</td>\n",
       "      <td>0.000070</td>\n",
       "    </tr>\n",
       "    <tr>\n",
       "      <th># of episode in the season</th>\n",
       "      <td>0</td>\n",
       "      <td>0.000000</td>\n",
       "    </tr>\n",
       "    <tr>\n",
       "      <th>First time or rerun</th>\n",
       "      <td>0</td>\n",
       "      <td>0.000000</td>\n",
       "    </tr>\n",
       "    <tr>\n",
       "      <th>Genre</th>\n",
       "      <td>0</td>\n",
       "      <td>0.000000</td>\n",
       "    </tr>\n",
       "    <tr>\n",
       "      <th>Movie?</th>\n",
       "      <td>0</td>\n",
       "      <td>0.000000</td>\n",
       "    </tr>\n",
       "    <tr>\n",
       "      <th>Name of show</th>\n",
       "      <td>0</td>\n",
       "      <td>0.000000</td>\n",
       "    </tr>\n",
       "    <tr>\n",
       "      <th>Length</th>\n",
       "      <td>0</td>\n",
       "      <td>0.000000</td>\n",
       "    </tr>\n",
       "    <tr>\n",
       "      <th>Market Share_total</th>\n",
       "      <td>0</td>\n",
       "      <td>0.000000</td>\n",
       "    </tr>\n",
       "    <tr>\n",
       "      <th>Game of the Canadiens during episode?</th>\n",
       "      <td>0</td>\n",
       "      <td>0.000000</td>\n",
       "    </tr>\n",
       "    <tr>\n",
       "      <th>Day of week</th>\n",
       "      <td>0</td>\n",
       "      <td>0.000000</td>\n",
       "    </tr>\n",
       "    <tr>\n",
       "      <th>Date</th>\n",
       "      <td>0</td>\n",
       "      <td>0.000000</td>\n",
       "    </tr>\n",
       "    <tr>\n",
       "      <th>Year</th>\n",
       "      <td>0</td>\n",
       "      <td>0.000000</td>\n",
       "    </tr>\n",
       "    <tr>\n",
       "      <th>Season</th>\n",
       "      <td>0</td>\n",
       "      <td>0.000000</td>\n",
       "    </tr>\n",
       "    <tr>\n",
       "      <th>Channel Type</th>\n",
       "      <td>0</td>\n",
       "      <td>0.000000</td>\n",
       "    </tr>\n",
       "    <tr>\n",
       "      <th>Station</th>\n",
       "      <td>0</td>\n",
       "      <td>0.000000</td>\n",
       "    </tr>\n",
       "    <tr>\n",
       "      <th>Episode</th>\n",
       "      <td>0</td>\n",
       "      <td>0.000000</td>\n",
       "    </tr>\n",
       "    <tr>\n",
       "      <th>Unnamed: 0</th>\n",
       "      <td>0</td>\n",
       "      <td>0.000000</td>\n",
       "    </tr>\n",
       "  </tbody>\n",
       "</table>\n",
       "</div>"
      ],
      "text/plain": [
       "                                         Total   Percent\n",
       "Name of episode                         222579  0.360945\n",
       "Temperature in Montreal during episode   83344  0.135155\n",
       "Start_time                                  43  0.000070\n",
       "End_time                                    43  0.000070\n",
       "# of episode in the season                   0  0.000000\n",
       "First time or rerun                          0  0.000000\n",
       "Genre                                        0  0.000000\n",
       "Movie?                                       0  0.000000\n",
       "Name of show                                 0  0.000000\n",
       "Length                                       0  0.000000\n",
       "Market Share_total                           0  0.000000\n",
       "Game of the Canadiens during episode?        0  0.000000\n",
       "Day of week                                  0  0.000000\n",
       "Date                                         0  0.000000\n",
       "Year                                         0  0.000000\n",
       "Season                                       0  0.000000\n",
       "Channel Type                                 0  0.000000\n",
       "Station                                      0  0.000000\n",
       "Episode                                      0  0.000000\n",
       "Unnamed: 0                                   0  0.000000"
      ]
     },
     "execution_count": 16,
     "metadata": {},
     "output_type": "execute_result"
    }
   ],
   "source": [
    "total = data.isnull().sum().sort_values(ascending=False)\n",
    "percent = (data.isnull().sum()/data.isnull().count()).sort_values(ascending=False)\n",
    "missing_data = pd.concat([total, percent], axis=1, keys=['Total', 'Percent'])\n",
    "missing_data.head(20)\n"
   ]
  },
  {
   "cell_type": "code",
   "execution_count": 17,
   "metadata": {
    "pycharm": {
     "is_executing": false,
     "name": "#%%\n"
    }
   },
   "outputs": [],
   "source": [
    "data.drop(columns[0],axis=1,inplace=True)\n",
    "data.drop('Name of episode', axis=1 , inplace=True)\n",
    "data.drop('Name of show',axis=1,inplace=True)"
   ]
  },
  {
   "cell_type": "code",
   "execution_count": 20,
   "metadata": {
    "pycharm": {
     "is_executing": false,
     "name": "#%%\n"
    }
   },
   "outputs": [
    {
     "data": {
      "text/plain": [
       "Episode                                   0\n",
       "Station                                   0\n",
       "Channel Type                              0\n",
       "Season                                    0\n",
       "Year                                      0\n",
       "Date                                      0\n",
       "Day of week                               0\n",
       "Start_time                                0\n",
       "End_time                                  0\n",
       "Length                                    0\n",
       "Genre                                     0\n",
       "First time or rerun                       0\n",
       "# of episode in the season                0\n",
       "Movie?                                    0\n",
       "Game of the Canadiens during episode?     0\n",
       "Market Share_total                        0\n",
       "Temperature in Montreal during episode    0\n",
       "dtype: int64"
      ]
     },
     "execution_count": 20,
     "metadata": {},
     "output_type": "execute_result"
    }
   ],
   "source": [
    "data = data.dropna(axis=0)\n",
    "data.isnull().sum()"
   ]
  },
  {
   "cell_type": "code",
   "execution_count": 21,
   "metadata": {
    "pycharm": {
     "is_executing": false,
     "name": "#%%\n"
    }
   },
   "outputs": [
    {
     "data": {
      "text/html": [
       "<div>\n",
       "<style scoped>\n",
       "    .dataframe tbody tr th:only-of-type {\n",
       "        vertical-align: middle;\n",
       "    }\n",
       "\n",
       "    .dataframe tbody tr th {\n",
       "        vertical-align: top;\n",
       "    }\n",
       "\n",
       "    .dataframe thead th {\n",
       "        text-align: right;\n",
       "    }\n",
       "</style>\n",
       "<table border=\"1\" class=\"dataframe\">\n",
       "  <thead>\n",
       "    <tr style=\"text-align: right;\">\n",
       "      <th></th>\n",
       "      <th>Episode</th>\n",
       "      <th>Station</th>\n",
       "      <th>Channel Type</th>\n",
       "      <th>Season</th>\n",
       "      <th>Year</th>\n",
       "      <th>Date</th>\n",
       "      <th>Day of week</th>\n",
       "      <th>Start_time</th>\n",
       "      <th>End_time</th>\n",
       "      <th>Length</th>\n",
       "      <th>Genre</th>\n",
       "      <th>First time or rerun</th>\n",
       "      <th># of episode in the season</th>\n",
       "      <th>Movie?</th>\n",
       "      <th>Game of the Canadiens during episode?</th>\n",
       "      <th>Market Share_total</th>\n",
       "      <th>Temperature in Montreal during episode</th>\n",
       "    </tr>\n",
       "  </thead>\n",
       "  <tbody>\n",
       "    <tr>\n",
       "      <th>0</th>\n",
       "      <td>Vidéoclips V</td>\n",
       "      <td>V Total</td>\n",
       "      <td>General Channel</td>\n",
       "      <td>Fall</td>\n",
       "      <td>2016</td>\n",
       "      <td>2016-08-29</td>\n",
       "      <td>Monday</td>\n",
       "      <td>2016-08-29 06:00:00</td>\n",
       "      <td>2016-08-29 08:00:00</td>\n",
       "      <td>8</td>\n",
       "      <td>Music Video Clips</td>\n",
       "      <td>No</td>\n",
       "      <td>Yes</td>\n",
       "      <td>No</td>\n",
       "      <td>No</td>\n",
       "      <td>0.9</td>\n",
       "      <td>20.400</td>\n",
       "    </tr>\n",
       "    <tr>\n",
       "      <th>1</th>\n",
       "      <td>Apollo dans l'frigo</td>\n",
       "      <td>V Total</td>\n",
       "      <td>General Channel</td>\n",
       "      <td>Fall</td>\n",
       "      <td>2016</td>\n",
       "      <td>2016-08-29</td>\n",
       "      <td>Monday</td>\n",
       "      <td>2016-08-29 08:00:00</td>\n",
       "      <td>2016-08-29 08:30:00</td>\n",
       "      <td>2</td>\n",
       "      <td>Informal Education and Recreation and Leisure</td>\n",
       "      <td>No</td>\n",
       "      <td>Yes</td>\n",
       "      <td>No</td>\n",
       "      <td>No</td>\n",
       "      <td>0.5</td>\n",
       "      <td>19.125</td>\n",
       "    </tr>\n",
       "    <tr>\n",
       "      <th>2</th>\n",
       "      <td>Infopublicité</td>\n",
       "      <td>V Total</td>\n",
       "      <td>General Channel</td>\n",
       "      <td>Fall</td>\n",
       "      <td>2016</td>\n",
       "      <td>2016-08-29</td>\n",
       "      <td>Monday</td>\n",
       "      <td>2016-08-29 08:30:00</td>\n",
       "      <td>2016-08-29 09:00:00</td>\n",
       "      <td>2</td>\n",
       "      <td>Infomercials, Promotional and Corporate Videos</td>\n",
       "      <td>No</td>\n",
       "      <td>Yes</td>\n",
       "      <td>No</td>\n",
       "      <td>No</td>\n",
       "      <td>0.3</td>\n",
       "      <td>19.125</td>\n",
       "    </tr>\n",
       "    <tr>\n",
       "      <th>3</th>\n",
       "      <td>Infos, Les</td>\n",
       "      <td>V Total</td>\n",
       "      <td>General Channel</td>\n",
       "      <td>Fall</td>\n",
       "      <td>2016</td>\n",
       "      <td>2016-08-29</td>\n",
       "      <td>Monday</td>\n",
       "      <td>2016-08-29 09:00:00</td>\n",
       "      <td>2016-08-29 10:00:00</td>\n",
       "      <td>4</td>\n",
       "      <td>News</td>\n",
       "      <td>No</td>\n",
       "      <td>Yes</td>\n",
       "      <td>No</td>\n",
       "      <td>No</td>\n",
       "      <td>1.7</td>\n",
       "      <td>18.125</td>\n",
       "    </tr>\n",
       "    <tr>\n",
       "      <th>4</th>\n",
       "      <td>Souper presque parfait, Un</td>\n",
       "      <td>V Total</td>\n",
       "      <td>General Channel</td>\n",
       "      <td>Fall</td>\n",
       "      <td>2016</td>\n",
       "      <td>2016-08-29</td>\n",
       "      <td>Monday</td>\n",
       "      <td>2016-08-29 10:00:00</td>\n",
       "      <td>2016-08-29 10:30:00</td>\n",
       "      <td>2</td>\n",
       "      <td>Reality Programs</td>\n",
       "      <td>No</td>\n",
       "      <td>Yes</td>\n",
       "      <td>No</td>\n",
       "      <td>No</td>\n",
       "      <td>2.2</td>\n",
       "      <td>18.250</td>\n",
       "    </tr>\n",
       "    <tr>\n",
       "      <th>...</th>\n",
       "      <td>...</td>\n",
       "      <td>...</td>\n",
       "      <td>...</td>\n",
       "      <td>...</td>\n",
       "      <td>...</td>\n",
       "      <td>...</td>\n",
       "      <td>...</td>\n",
       "      <td>...</td>\n",
       "      <td>...</td>\n",
       "      <td>...</td>\n",
       "      <td>...</td>\n",
       "      <td>...</td>\n",
       "      <td>...</td>\n",
       "      <td>...</td>\n",
       "      <td>...</td>\n",
       "      <td>...</td>\n",
       "      <td>...</td>\n",
       "    </tr>\n",
       "    <tr>\n",
       "      <th>616651</th>\n",
       "      <td>Backstage : Les coulisses du succès</td>\n",
       "      <td>VRAK+</td>\n",
       "      <td>Specialty Channel</td>\n",
       "      <td>Winter</td>\n",
       "      <td>2019</td>\n",
       "      <td>2019-01-22</td>\n",
       "      <td>Tuesday</td>\n",
       "      <td>2019-01-22 08:00:00</td>\n",
       "      <td>2019-01-22 08:30:00</td>\n",
       "      <td>2</td>\n",
       "      <td>Ongoing Dramatic Series</td>\n",
       "      <td>No</td>\n",
       "      <td>Yes</td>\n",
       "      <td>No</td>\n",
       "      <td>No</td>\n",
       "      <td>0.0</td>\n",
       "      <td>-22.375</td>\n",
       "    </tr>\n",
       "    <tr>\n",
       "      <th>616652</th>\n",
       "      <td>Le Studio</td>\n",
       "      <td>VRAK+</td>\n",
       "      <td>Specialty Channel</td>\n",
       "      <td>Winter</td>\n",
       "      <td>2019</td>\n",
       "      <td>2019-01-22</td>\n",
       "      <td>Tuesday</td>\n",
       "      <td>2019-01-22 08:30:00</td>\n",
       "      <td>2019-01-22 09:00:00</td>\n",
       "      <td>2</td>\n",
       "      <td>Ongoing Dramatic Series</td>\n",
       "      <td>No</td>\n",
       "      <td>Yes</td>\n",
       "      <td>No</td>\n",
       "      <td>No</td>\n",
       "      <td>1.1</td>\n",
       "      <td>-22.375</td>\n",
       "    </tr>\n",
       "    <tr>\n",
       "      <th>616653</th>\n",
       "      <td>Jane l'Immaculée (M)</td>\n",
       "      <td>VRAK+</td>\n",
       "      <td>Specialty Channel</td>\n",
       "      <td>Winter</td>\n",
       "      <td>2019</td>\n",
       "      <td>2019-01-22</td>\n",
       "      <td>Tuesday</td>\n",
       "      <td>2019-01-22 09:00:00</td>\n",
       "      <td>2019-01-22 10:00:00</td>\n",
       "      <td>4</td>\n",
       "      <td>Ongoing Comedy Series (Sitcoms)</td>\n",
       "      <td>No</td>\n",
       "      <td>Yes</td>\n",
       "      <td>No</td>\n",
       "      <td>No</td>\n",
       "      <td>0.3</td>\n",
       "      <td>-22.525</td>\n",
       "    </tr>\n",
       "    <tr>\n",
       "      <th>616654</th>\n",
       "      <td>Jane l'Immaculée (M)</td>\n",
       "      <td>VRAK+</td>\n",
       "      <td>Specialty Channel</td>\n",
       "      <td>Winter</td>\n",
       "      <td>2019</td>\n",
       "      <td>2019-01-22</td>\n",
       "      <td>Tuesday</td>\n",
       "      <td>2019-01-22 10:00:00</td>\n",
       "      <td>2019-01-22 11:00:00</td>\n",
       "      <td>4</td>\n",
       "      <td>Ongoing Comedy Series (Sitcoms)</td>\n",
       "      <td>No</td>\n",
       "      <td>Yes</td>\n",
       "      <td>No</td>\n",
       "      <td>No</td>\n",
       "      <td>0.4</td>\n",
       "      <td>-22.775</td>\n",
       "    </tr>\n",
       "    <tr>\n",
       "      <th>616655</th>\n",
       "      <td>Mom V.F. (M)</td>\n",
       "      <td>VRAK+</td>\n",
       "      <td>Specialty Channel</td>\n",
       "      <td>Winter</td>\n",
       "      <td>2019</td>\n",
       "      <td>2019-01-22</td>\n",
       "      <td>Tuesday</td>\n",
       "      <td>2019-01-22 11:00:00</td>\n",
       "      <td>2019-01-22 11:30:00</td>\n",
       "      <td>2</td>\n",
       "      <td>Ongoing Comedy Series (Sitcoms)</td>\n",
       "      <td>No</td>\n",
       "      <td>Yes</td>\n",
       "      <td>No</td>\n",
       "      <td>No</td>\n",
       "      <td>1.6</td>\n",
       "      <td>-22.525</td>\n",
       "    </tr>\n",
       "  </tbody>\n",
       "</table>\n",
       "<p>533312 rows × 17 columns</p>\n",
       "</div>"
      ],
      "text/plain": [
       "                                    Episode  Station       Channel Type  \\\n",
       "0                              Vidéoclips V  V Total    General Channel   \n",
       "1                       Apollo dans l'frigo  V Total    General Channel   \n",
       "2                             Infopublicité  V Total    General Channel   \n",
       "3                                Infos, Les  V Total    General Channel   \n",
       "4                Souper presque parfait, Un  V Total    General Channel   \n",
       "...                                     ...      ...                ...   \n",
       "616651  Backstage : Les coulisses du succès    VRAK+  Specialty Channel   \n",
       "616652                            Le Studio    VRAK+  Specialty Channel   \n",
       "616653                 Jane l'Immaculée (M)    VRAK+  Specialty Channel   \n",
       "616654                 Jane l'Immaculée (M)    VRAK+  Specialty Channel   \n",
       "616655                         Mom V.F. (M)    VRAK+  Specialty Channel   \n",
       "\n",
       "        Season  Year        Date Day of week           Start_time  \\\n",
       "0         Fall  2016  2016-08-29      Monday  2016-08-29 06:00:00   \n",
       "1         Fall  2016  2016-08-29      Monday  2016-08-29 08:00:00   \n",
       "2         Fall  2016  2016-08-29      Monday  2016-08-29 08:30:00   \n",
       "3         Fall  2016  2016-08-29      Monday  2016-08-29 09:00:00   \n",
       "4         Fall  2016  2016-08-29      Monday  2016-08-29 10:00:00   \n",
       "...        ...   ...         ...         ...                  ...   \n",
       "616651  Winter  2019  2019-01-22     Tuesday  2019-01-22 08:00:00   \n",
       "616652  Winter  2019  2019-01-22     Tuesday  2019-01-22 08:30:00   \n",
       "616653  Winter  2019  2019-01-22     Tuesday  2019-01-22 09:00:00   \n",
       "616654  Winter  2019  2019-01-22     Tuesday  2019-01-22 10:00:00   \n",
       "616655  Winter  2019  2019-01-22     Tuesday  2019-01-22 11:00:00   \n",
       "\n",
       "                   End_time  Length  \\\n",
       "0       2016-08-29 08:00:00       8   \n",
       "1       2016-08-29 08:30:00       2   \n",
       "2       2016-08-29 09:00:00       2   \n",
       "3       2016-08-29 10:00:00       4   \n",
       "4       2016-08-29 10:30:00       2   \n",
       "...                     ...     ...   \n",
       "616651  2019-01-22 08:30:00       2   \n",
       "616652  2019-01-22 09:00:00       2   \n",
       "616653  2019-01-22 10:00:00       4   \n",
       "616654  2019-01-22 11:00:00       4   \n",
       "616655  2019-01-22 11:30:00       2   \n",
       "\n",
       "                                                 Genre First time or rerun  \\\n",
       "0                                    Music Video Clips                  No   \n",
       "1        Informal Education and Recreation and Leisure                  No   \n",
       "2       Infomercials, Promotional and Corporate Videos                  No   \n",
       "3                                                 News                  No   \n",
       "4                                     Reality Programs                  No   \n",
       "...                                                ...                 ...   \n",
       "616651                         Ongoing Dramatic Series                  No   \n",
       "616652                         Ongoing Dramatic Series                  No   \n",
       "616653                 Ongoing Comedy Series (Sitcoms)                  No   \n",
       "616654                 Ongoing Comedy Series (Sitcoms)                  No   \n",
       "616655                 Ongoing Comedy Series (Sitcoms)                  No   \n",
       "\n",
       "       # of episode in the season Movie?  \\\n",
       "0                             Yes     No   \n",
       "1                             Yes     No   \n",
       "2                             Yes     No   \n",
       "3                             Yes     No   \n",
       "4                             Yes     No   \n",
       "...                           ...    ...   \n",
       "616651                        Yes     No   \n",
       "616652                        Yes     No   \n",
       "616653                        Yes     No   \n",
       "616654                        Yes     No   \n",
       "616655                        Yes     No   \n",
       "\n",
       "       Game of the Canadiens during episode?  Market Share_total  \\\n",
       "0                                         No                 0.9   \n",
       "1                                         No                 0.5   \n",
       "2                                         No                 0.3   \n",
       "3                                         No                 1.7   \n",
       "4                                         No                 2.2   \n",
       "...                                      ...                 ...   \n",
       "616651                                    No                 0.0   \n",
       "616652                                    No                 1.1   \n",
       "616653                                    No                 0.3   \n",
       "616654                                    No                 0.4   \n",
       "616655                                    No                 1.6   \n",
       "\n",
       "        Temperature in Montreal during episode  \n",
       "0                                       20.400  \n",
       "1                                       19.125  \n",
       "2                                       19.125  \n",
       "3                                       18.125  \n",
       "4                                       18.250  \n",
       "...                                        ...  \n",
       "616651                                 -22.375  \n",
       "616652                                 -22.375  \n",
       "616653                                 -22.525  \n",
       "616654                                 -22.775  \n",
       "616655                                 -22.525  \n",
       "\n",
       "[533312 rows x 17 columns]"
      ]
     },
     "execution_count": 21,
     "metadata": {},
     "output_type": "execute_result"
    }
   ],
   "source": [
    "data"
   ]
  },
  {
   "cell_type": "code",
   "execution_count": 22,
   "metadata": {
    "pycharm": {
     "is_executing": false,
     "name": "#%%\n"
    }
   },
   "outputs": [
    {
     "data": {
      "text/plain": [
       "17"
      ]
     },
     "execution_count": 22,
     "metadata": {},
     "output_type": "execute_result"
    }
   ],
   "source": [
    "columns = data.columns\n",
    "len(columns)"
   ]
  },
  {
   "cell_type": "code",
   "execution_count": 31,
   "metadata": {
    "pycharm": {
     "is_executing": false,
     "name": "#%%\n"
    }
   },
   "outputs": [
    {
     "name": "stderr",
     "output_type": "stream",
     "text": [
      "c:\\users\\parastoo\\pycharmprojects\\yapaitek\\venv\\lib\\site-packages\\IPython\\core\\pylabtools.py:128: UserWarning: Creating legend with loc=\"best\" can be slow with large amounts of data.\n",
      "  fig.canvas.print_figure(bytes_io, **kw)\n"
     ]
    },
    {
     "data": {
      "image/png": "[encoded data removed]",
      "text/plain": [
       "<Figure size 432x288 with 1 Axes>"
      ]
     },
     "metadata": {
      "needs_background": "light"
     },
     "output_type": "display_data"
    }
   ],
   "source": [
    "# temp1 = data [columns[16]]\n",
    "# temp1 = temp1.map(generate_index(temp1))\n",
    "# \n",
    "# temp2= data[ columns[15]]\n",
    "# temp2 = temp2.map(generate_index(temp2))\n",
    "# \n",
    "# fig, ax = plt.subplots()\n",
    "# ax.plot(temp1,temp2, label=\"pre\")\n",
    "# ax.legend()\n",
    "# import random as rnd\n",
    "# randomStartIndex = rnd.randrange(1,len(data) - 101)\n",
    "# plt.xlim(randomStartIndex, randomStartIndex + 100 )\n",
    "# plt.show()"
   ]
  },
  {
   "cell_type": "code",
   "execution_count": null,
   "metadata": {
    "pycharm": {
     "name": "#%%\n"
    }
   },
   "outputs": [],
   "source": [
    "\n"
   ]
  }
 ],
 "metadata": {
  "kernelspec": {
   "display_name": "Python 3",
   "language": "python",
   "name": "python3"
  },
  "language_info": {
   "codemirror_mode": {
    "name": "ipython",
    "version": 3
   },
   "file_extension": ".py",
   "mimetype": "text/x-python",
   "name": "python",
   "nbconvert_exporter": "python",
   "pygments_lexer": "ipython3",
   "version": "3.7.3"
  },
  "pycharm": {
   "stem_cell": {
    "cell_type": "raw",
    "metadata": {
     "collapsed": false
    },
    "source": []
   }
  }
 },
 "nbformat": 4,
 "nbformat_minor": 1
}
