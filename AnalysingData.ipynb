{
 "cells": [
  {
   "cell_type": "code",
   "execution_count": 2,
   "metadata": {
    "pycharm": {
     "is_executing": false,
     "name": "#%%\n"
    }
   },
   "outputs": [],
   "source": [
    "import pandas as pd\n",
    "import matplotlib.pyplot as plt\n",
    "import seaborn as sns\n",
    "import numpy as np"
   ]
  },
  {
   "cell_type": "code",
   "execution_count": 3,
   "metadata": {
    "pycharm": {
     "is_executing": false,
     "name": "#%%\n"
    }
   },
   "outputs": [],
   "source": [
    "data = pd.read_csv('data.csv')"
   ]
  },
  {
   "cell_type": "code",
   "execution_count": 4,
   "metadata": {
    "pycharm": {
     "is_executing": false,
     "name": "#%%\n"
    }
   },
   "outputs": [
    {
     "data": {
      "text/plain": "20"
     },
     "metadata": {},
     "output_type": "execute_result",
     "execution_count": 4
    }
   ],
   "source": [
    "columns = data.columns\n",
    "len(columns)"
   ]
  },
  {
   "cell_type": "code",
   "execution_count": 5,
   "metadata": {
    "pycharm": {
     "is_executing": false,
     "name": "#%%\n"
    }
   },
   "outputs": [
    {
     "data": {
      "text/plain": "Index(['Unnamed: 0', 'Episode', 'Station', 'Channel Type', 'Season', 'Year',\n       'Date', 'Day of week', 'Start_time', 'End_time', 'Length',\n       'Name of show', 'Name of episode', 'Genre', 'First time or rerun',\n       '# of episode in the season', 'Movie?',\n       'Game of the Canadiens during episode?', 'Market Share_total',\n       'Temperature in Montreal during episode'],\n      dtype='object')"
     },
     "metadata": {},
     "output_type": "execute_result",
     "execution_count": 5
    }
   ],
   "source": [
    "columns"
   ]
  },
  {
   "cell_type": "code",
   "execution_count": 6,
   "metadata": {
    "pycharm": {
     "is_executing": false,
     "name": "#%%\n"
    }
   },
   "outputs": [
    {
     "name": "stdout",
     "text": [
      " Unnamed: 0\t616656 \n Episode\t6687 \n Station\t24 \n Channel Type\t2 \n Season\t4 \n Year\t4 \n Date\t877 \n Day of week\t7 \n",
      " Start_time\t138322 \n End_time\t138334 \n Length\t39 \n Name of show\t6687 \n Name of episode\t86557 \n Genre\t27 \n First time or rerun\t2 \n",
      " # of episode in the season\t2 \n Movie?\t2 \n Game of the Canadiens during episode?\t2 \n Market Share_total\t545 \n Temperature in Montreal during episode\t11829 \n"
     ],
     "output_type": "stream"
    }
   ],
   "source": [
    "for i in range (len(columns)) :\n",
    "     print(\" {}\\t{} \".format(columns[i] ,len(data[columns[i]].unique())))     "
   ]
  },
  {
   "cell_type": "code",
   "execution_count": 7,
   "metadata": {
    "pycharm": {
     "is_executing": false,
     "name": "#%%\n"
    }
   },
   "outputs": [
    {
     "data": {
      "text/plain": "                                         Total   Percent\nName of episode                         222579  0.360945\nTemperature in Montreal during episode   83344  0.135155\nStart_time                                  43  0.000070\nEnd_time                                    43  0.000070\n# of episode in the season                   0  0.000000\nFirst time or rerun                          0  0.000000\nGenre                                        0  0.000000\nMovie?                                       0  0.000000\nName of show                                 0  0.000000\nLength                                       0  0.000000\nMarket Share_total                           0  0.000000\nGame of the Canadiens during episode?        0  0.000000\nDay of week                                  0  0.000000\nDate                                         0  0.000000\nYear                                         0  0.000000\nSeason                                       0  0.000000\nChannel Type                                 0  0.000000\nStation                                      0  0.000000\nEpisode                                      0  0.000000\nUnnamed: 0                                   0  0.000000",
      "text/html": "<div>\n<style scoped>\n    .dataframe tbody tr th:only-of-type {\n        vertical-align: middle;\n    }\n\n    .dataframe tbody tr th {\n        vertical-align: top;\n    }\n\n    .dataframe thead th {\n        text-align: right;\n    }\n</style>\n<table border=\"1\" class=\"dataframe\">\n  <thead>\n    <tr style=\"text-align: right;\">\n      <th></th>\n      <th>Total</th>\n      <th>Percent</th>\n    </tr>\n  </thead>\n  <tbody>\n    <tr>\n      <th>Name of episode</th>\n      <td>222579</td>\n      <td>0.360945</td>\n    </tr>\n    <tr>\n      <th>Temperature in Montreal during episode</th>\n      <td>83344</td>\n      <td>0.135155</td>\n    </tr>\n    <tr>\n      <th>Start_time</th>\n      <td>43</td>\n      <td>0.000070</td>\n    </tr>\n    <tr>\n      <th>End_time</th>\n      <td>43</td>\n      <td>0.000070</td>\n    </tr>\n    <tr>\n      <th># of episode in the season</th>\n      <td>0</td>\n      <td>0.000000</td>\n    </tr>\n    <tr>\n      <th>First time or rerun</th>\n      <td>0</td>\n      <td>0.000000</td>\n    </tr>\n    <tr>\n      <th>Genre</th>\n      <td>0</td>\n      <td>0.000000</td>\n    </tr>\n    <tr>\n      <th>Movie?</th>\n      <td>0</td>\n      <td>0.000000</td>\n    </tr>\n    <tr>\n      <th>Name of show</th>\n      <td>0</td>\n      <td>0.000000</td>\n    </tr>\n    <tr>\n      <th>Length</th>\n      <td>0</td>\n      <td>0.000000</td>\n    </tr>\n    <tr>\n      <th>Market Share_total</th>\n      <td>0</td>\n      <td>0.000000</td>\n    </tr>\n    <tr>\n      <th>Game of the Canadiens during episode?</th>\n      <td>0</td>\n      <td>0.000000</td>\n    </tr>\n    <tr>\n      <th>Day of week</th>\n      <td>0</td>\n      <td>0.000000</td>\n    </tr>\n    <tr>\n      <th>Date</th>\n      <td>0</td>\n      <td>0.000000</td>\n    </tr>\n    <tr>\n      <th>Year</th>\n      <td>0</td>\n      <td>0.000000</td>\n    </tr>\n    <tr>\n      <th>Season</th>\n      <td>0</td>\n      <td>0.000000</td>\n    </tr>\n    <tr>\n      <th>Channel Type</th>\n      <td>0</td>\n      <td>0.000000</td>\n    </tr>\n    <tr>\n      <th>Station</th>\n      <td>0</td>\n      <td>0.000000</td>\n    </tr>\n    <tr>\n      <th>Episode</th>\n      <td>0</td>\n      <td>0.000000</td>\n    </tr>\n    <tr>\n      <th>Unnamed: 0</th>\n      <td>0</td>\n      <td>0.000000</td>\n    </tr>\n  </tbody>\n</table>\n</div>"
     },
     "metadata": {},
     "output_type": "execute_result",
     "execution_count": 7
    }
   ],
   "source": [
    "total = data.isnull().sum().sort_values(ascending=False)\n",
    "percent = (data.isnull().sum()/data.isnull().count()).sort_values(ascending=False)\n",
    "missing_data = pd.concat([total, percent], axis=1, keys=['Total', 'Percent'])\n",
    "missing_data.head(20)"
   ]
  },
  {
   "cell_type": "code",
   "execution_count": 8,
   "outputs": [
    {
     "data": {
      "text/plain": "array([ True])"
     },
     "metadata": {},
     "output_type": "execute_result",
     "execution_count": 8
    }
   ],
   "source": [
    "(data['Episode'] == data['Name of show']).unique()"
   ],
   "metadata": {
    "collapsed": false,
    "pycharm": {
     "name": "#%% \n",
     "is_executing": false
    }
   }
  },
  {
   "cell_type": "markdown",
   "metadata": {},
   "source": [
    "As we can see in the table above, about 1/3 of __'Name of episode'__ is Nan. and i also think that it doesnt have important effects on the result.\n",
    "so i wil drop this column.\n",
    "Also, __'Name of show'__ is the same as __'Episode'__. i think they have important effects on the result as people usually watch certain shows. so i will keep one of them and drop the other one."
   ]
  },
  {
   "cell_type": "code",
   "execution_count": 9,
   "metadata": {
    "pycharm": {
     "is_executing": false,
     "name": "#%%\n"
    }
   },
   "outputs": [],
   "source": [
    "data.drop(columns[0],axis=1,inplace=True)\n",
    "data.drop('Name of episode', axis=1 , inplace=True)\n",
    "data.drop('Name of show',axis=1,inplace=True)"
   ]
  },
  {
   "cell_type": "markdown",
   "metadata": {},
   "source": [
    "In my first try i also dropped the __'Temperature in Montreal during episode'__ column cause i doubt if it affects people when they want to watch tv. but i found my model more accurate while keeping this.\n",
    "As it has a considerable number of Nans, i will first fill the Nans with 0 before droppping the rest Nans in the data (otherwise a great amount of datas would be lost)"
   ]
  },
  {
   "cell_type": "code",
   "execution_count": 10,
   "metadata": {
    "pycharm": {
     "is_executing": false,
     "name": "#%%\n"
    }
   },
   "outputs": [
    {
     "data": {
      "text/plain": "Episode                                   0\nStation                                   0\nChannel Type                              0\nSeason                                    0\nYear                                      0\nDate                                      0\nDay of week                               0\nStart_time                                0\nEnd_time                                  0\nLength                                    0\nGenre                                     0\nFirst time or rerun                       0\n# of episode in the season                0\nMovie?                                    0\nGame of the Canadiens during episode?     0\nMarket Share_total                        0\nTemperature in Montreal during episode    0\ndtype: int64"
     },
     "metadata": {},
     "output_type": "execute_result",
     "execution_count": 10
    }
   ],
   "source": [
    "data['Temperature in Montreal during episode'].fillna('0')\n",
    "data = data.dropna(axis=0)\n",
    "data.isnull().sum()"
   ]
  },
  {
   "cell_type": "code",
   "execution_count": 11,
   "metadata": {
    "pycharm": {
     "is_executing": false,
     "name": "#%%\n"
    }
   },
   "outputs": [
    {
     "data": {
      "text/plain": "               Episode  Station     Channel Type Season  Year        Date  \\\n0         Vidéoclips V  V Total  General Channel   Fall  2016  2016-08-29   \n1  Apollo dans l'frigo  V Total  General Channel   Fall  2016  2016-08-29   \n2        Infopublicité  V Total  General Channel   Fall  2016  2016-08-29   \n\n  Day of week           Start_time             End_time  Length  \\\n0      Monday  2016-08-29 06:00:00  2016-08-29 08:00:00       8   \n1      Monday  2016-08-29 08:00:00  2016-08-29 08:30:00       2   \n2      Monday  2016-08-29 08:30:00  2016-08-29 09:00:00       2   \n\n                                            Genre First time or rerun  \\\n0                               Music Video Clips                  No   \n1   Informal Education and Recreation and Leisure                  No   \n2  Infomercials, Promotional and Corporate Videos                  No   \n\n  # of episode in the season Movie? Game of the Canadiens during episode?  \\\n0                        Yes     No                                    No   \n1                        Yes     No                                    No   \n2                        Yes     No                                    No   \n\n   Market Share_total  Temperature in Montreal during episode  \n0                 0.9                                  20.400  \n1                 0.5                                  19.125  \n2                 0.3                                  19.125  ",
      "text/html": "<div>\n<style scoped>\n    .dataframe tbody tr th:only-of-type {\n        vertical-align: middle;\n    }\n\n    .dataframe tbody tr th {\n        vertical-align: top;\n    }\n\n    .dataframe thead th {\n        text-align: right;\n    }\n</style>\n<table border=\"1\" class=\"dataframe\">\n  <thead>\n    <tr style=\"text-align: right;\">\n      <th></th>\n      <th>Episode</th>\n      <th>Station</th>\n      <th>Channel Type</th>\n      <th>Season</th>\n      <th>Year</th>\n      <th>Date</th>\n      <th>Day of week</th>\n      <th>Start_time</th>\n      <th>End_time</th>\n      <th>Length</th>\n      <th>Genre</th>\n      <th>First time or rerun</th>\n      <th># of episode in the season</th>\n      <th>Movie?</th>\n      <th>Game of the Canadiens during episode?</th>\n      <th>Market Share_total</th>\n      <th>Temperature in Montreal during episode</th>\n    </tr>\n  </thead>\n  <tbody>\n    <tr>\n      <th>0</th>\n      <td>Vidéoclips V</td>\n      <td>V Total</td>\n      <td>General Channel</td>\n      <td>Fall</td>\n      <td>2016</td>\n      <td>2016-08-29</td>\n      <td>Monday</td>\n      <td>2016-08-29 06:00:00</td>\n      <td>2016-08-29 08:00:00</td>\n      <td>8</td>\n      <td>Music Video Clips</td>\n      <td>No</td>\n      <td>Yes</td>\n      <td>No</td>\n      <td>No</td>\n      <td>0.9</td>\n      <td>20.400</td>\n    </tr>\n    <tr>\n      <th>1</th>\n      <td>Apollo dans l'frigo</td>\n      <td>V Total</td>\n      <td>General Channel</td>\n      <td>Fall</td>\n      <td>2016</td>\n      <td>2016-08-29</td>\n      <td>Monday</td>\n      <td>2016-08-29 08:00:00</td>\n      <td>2016-08-29 08:30:00</td>\n      <td>2</td>\n      <td>Informal Education and Recreation and Leisure</td>\n      <td>No</td>\n      <td>Yes</td>\n      <td>No</td>\n      <td>No</td>\n      <td>0.5</td>\n      <td>19.125</td>\n    </tr>\n    <tr>\n      <th>2</th>\n      <td>Infopublicité</td>\n      <td>V Total</td>\n      <td>General Channel</td>\n      <td>Fall</td>\n      <td>2016</td>\n      <td>2016-08-29</td>\n      <td>Monday</td>\n      <td>2016-08-29 08:30:00</td>\n      <td>2016-08-29 09:00:00</td>\n      <td>2</td>\n      <td>Infomercials, Promotional and Corporate Videos</td>\n      <td>No</td>\n      <td>Yes</td>\n      <td>No</td>\n      <td>No</td>\n      <td>0.3</td>\n      <td>19.125</td>\n    </tr>\n  </tbody>\n</table>\n</div>"
     },
     "metadata": {},
     "output_type": "execute_result",
     "execution_count": 11
    }
   ],
   "source": [
    "data.head(3)"
   ]
  },
  {
   "cell_type": "code",
   "execution_count": 12,
   "metadata": {
    "pycharm": {
     "is_executing": false,
     "name": "#%%\n"
    }
   },
   "outputs": [
    {
     "data": {
      "text/plain": "17"
     },
     "metadata": {},
     "output_type": "execute_result",
     "execution_count": 12
    }
   ],
   "source": [
    "columns = data.columns\n",
    "len(columns)"
   ]
  },
  {
   "cell_type": "code",
   "execution_count": 13,
   "metadata": {
    "pycharm": {
     "is_executing": false,
     "name": "#%%\n"
    }
   },
   "outputs": [],
   "source": [
    "# temp1 = data [columns[16]]\n",
    "# temp1 = temp1.map(generate_index(temp1))\n",
    "# \n",
    "# temp2= data[ columns[15]]\n",
    "# temp2 = temp2.map(generate_index(temp2))\n",
    "# \n",
    "# fig, ax = plt.subplots()\n",
    "# ax.plot(temp1,temp2, label=\"pre\")\n",
    "# ax.legend()\n",
    "# import random as rnd\n",
    "# randomStartIndex = rnd.randrange(1,len(data) - 101)\n",
    "# plt.xlim(randomStartIndex, randomStartIndex + 100 )\n",
    "# plt.show()"
   ]
  },
  {
   "cell_type": "markdown",
   "metadata": {
    "pycharm": {
     "name": "#%% md\n"
    }
   },
   "source": [
    "# Conclusion\n",
    "* __Episode__ and __Name of show__: are the same and i will drop one of them.\n",
    "* __Temperature in Montreal during episode__: as i said it doesnt make sense to me that tempreture affects but i tryed and it gave me a slighty better results. so i will keep this.\n",
    "* __Length__ : which considers 2 points for every 30minutes. i belevie it is very important. for example for myslef, i really dont like long shows.\n",
    "* __Start_time__ and __End_time__: is very important cause people tend to watch tv in some spc hourse more often.for example people watch tv at nights more often and rarly in the mornings.\n",
    "*to be able to analyse Start_time and End_time, i will converte them to the minutes.\n",
    "* __Game of the Canadiens during episode?__: i guess that because game's reslut is important for canadians, more people will watch tv to track the game.\n",
    "* __Year, Date, Season, and Day of Week__: holidays, seasons with more hollidays like summer(kids are usually free from school and tend to wach tv),weekends, some spc years(like those with election in them or important incidents) can be important for us. so i will keep them all.\n",
    "* __Name of episode__: as we saw before,a great number of this data is Nan and it also doesnt convey any meaning here.I dont think people pay attention to the name of episode when they're planning to watch tv.\n",
    "* i will keep other features although some of them like 'Station' or 'number of eps in season' doesnt make much sense to me.but i'm not sure anyway"
   ]
  }
 ],
 "metadata": {
  "kernelspec": {
   "display_name": "Python 3",
   "language": "python",
   "name": "python3"
  },
  "language_info": {
   "codemirror_mode": {
    "name": "ipython",
    "version": 3
   },
   "file_extension": ".py",
   "mimetype": "text/x-python",
   "name": "python",
   "nbconvert_exporter": "python",
   "pygments_lexer": "ipython3",
   "version": "3.7.3"
  },
  "pycharm": {
   "stem_cell": {
    "cell_type": "raw",
    "source": [],
    "metadata": {
     "collapsed": false
    }
   }
  }
 },
 "nbformat": 4,
 "nbformat_minor": 1
}