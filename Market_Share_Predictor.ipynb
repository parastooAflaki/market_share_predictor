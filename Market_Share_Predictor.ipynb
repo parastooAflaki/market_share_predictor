{
 "cells": [
  {
   "cell_type": "code",
   "execution_count": 2,
   "metadata": {
    "pycharm": {
     "name": "#%%\n",
     "is_executing": false
    }
   },
   "outputs": [],
   "source": [
    "import pandas as pd\n",
    "import matplotlib as plt\n",
    "import seaborn as sns\n",
    "import numpy as np"
   ]
  },
  {
   "cell_type": "code",
   "execution_count": 3,
   "metadata": {
    "pycharm": {
     "name": "#%%\n",
     "is_executing": false
    }
   },
   "outputs": [],
   "source": [
    "data = pd.read_csv('data.csv')\n"
   ]
  },
  {
   "cell_type": "code",
   "execution_count": 4,
   "metadata": {
    "pycharm": {
     "name": "#%%\n",
     "is_executing": false
    }
   },
   "outputs": [
    {
     "data": {
      "text/plain": "20"
     },
     "metadata": {},
     "output_type": "execute_result",
     "execution_count": 4
    }
   ],
   "source": [
    "columns = data.columns\n",
    "len(columns)"
   ]
  },
  {
   "cell_type": "code",
   "execution_count": 5,
   "metadata": {
    "pycharm": {
     "name": "#%%\n",
     "is_executing": false
    }
   },
   "outputs": [
    {
     "data": {
      "text/plain": "Index(['Unnamed: 0', 'Episode', 'Station', 'Channel Type', 'Season', 'Year',\n       'Date', 'Day of week', 'Start_time', 'End_time', 'Length',\n       'Name of show', 'Name of episode', 'Genre', 'First time or rerun',\n       '# of episode in the season', 'Movie?',\n       'Game of the Canadiens during episode?', 'Market Share_total',\n       'Temperature in Montreal during episode'],\n      dtype='object')"
     },
     "metadata": {},
     "output_type": "execute_result",
     "execution_count": 5
    }
   ],
   "source": [
    "columns"
   ]
  },
  {
   "cell_type": "code",
   "execution_count": 6,
   "metadata": {
    "pycharm": {
     "name": "#%%\n",
     "is_executing": false
    }
   },
   "outputs": [],
   "source": [
    "data.drop(columns[0],axis=1 , inplace=True)\n",
    "columns = data.columns"
   ]
  },
  {
   "cell_type": "code",
   "execution_count": 7,
   "metadata": {
    "pycharm": {
     "name": "#%%\n",
     "is_executing": false
    }
   },
   "outputs": [
    {
     "name": "stdout",
     "text": [
      " Episode\t6687 \n Station\t24 \n Channel Type\t2 \n Season\t4 \n Year\t4 \n Date\t877 \n Day of week\t7 \n Start_time\t138322 \n End_time\t138334 ",
      "\n Length\t39 \n Name of show\t6687 \n Name of episode\t86557 \n Genre\t27 \n First time or rerun\t2 \n # of episode in the season\t2 ",
      "\n Movie?\t2 \n Game of the Canadiens during episode?\t2 \n Market Share_total\t545 \n Temperature in Montreal during episode\t11829 \n"
     ],
     "output_type": "stream"
    }
   ],
   "source": [
    "for i in range (len(columns)) :\n",
    "     print(\" {}\\t{} \".format(columns[i] ,len(data[columns[i]].unique())))     "
   ]
  },
  {
   "cell_type": "code",
   "execution_count": 8,
   "metadata": {
    "pycharm": {
     "name": "#%%\n",
     "is_executing": false
    }
   },
   "outputs": [
    {
     "data": {
      "text/plain": "                                         Total   Percent\nName of episode                         222579  0.360945\nTemperature in Montreal during episode   83344  0.135155\nEnd_time                                    43  0.000070\nStart_time                                  43  0.000070\nStation                                      0  0.000000\nChannel Type                                 0  0.000000\nSeason                                       0  0.000000\nYear                                         0  0.000000\nDate                                         0  0.000000\nDay of week                                  0  0.000000\nLength                                       0  0.000000\nMarket Share_total                           0  0.000000\nName of show                                 0  0.000000\nGenre                                        0  0.000000\nFirst time or rerun                          0  0.000000\n# of episode in the season                   0  0.000000\nMovie?                                       0  0.000000\nGame of the Canadiens during episode?        0  0.000000\nEpisode                                      0  0.000000",
      "text/html": "<div>\n<style scoped>\n    .dataframe tbody tr th:only-of-type {\n        vertical-align: middle;\n    }\n\n    .dataframe tbody tr th {\n        vertical-align: top;\n    }\n\n    .dataframe thead th {\n        text-align: right;\n    }\n</style>\n<table border=\"1\" class=\"dataframe\">\n  <thead>\n    <tr style=\"text-align: right;\">\n      <th></th>\n      <th>Total</th>\n      <th>Percent</th>\n    </tr>\n  </thead>\n  <tbody>\n    <tr>\n      <th>Name of episode</th>\n      <td>222579</td>\n      <td>0.360945</td>\n    </tr>\n    <tr>\n      <th>Temperature in Montreal during episode</th>\n      <td>83344</td>\n      <td>0.135155</td>\n    </tr>\n    <tr>\n      <th>End_time</th>\n      <td>43</td>\n      <td>0.000070</td>\n    </tr>\n    <tr>\n      <th>Start_time</th>\n      <td>43</td>\n      <td>0.000070</td>\n    </tr>\n    <tr>\n      <th>Station</th>\n      <td>0</td>\n      <td>0.000000</td>\n    </tr>\n    <tr>\n      <th>Channel Type</th>\n      <td>0</td>\n      <td>0.000000</td>\n    </tr>\n    <tr>\n      <th>Season</th>\n      <td>0</td>\n      <td>0.000000</td>\n    </tr>\n    <tr>\n      <th>Year</th>\n      <td>0</td>\n      <td>0.000000</td>\n    </tr>\n    <tr>\n      <th>Date</th>\n      <td>0</td>\n      <td>0.000000</td>\n    </tr>\n    <tr>\n      <th>Day of week</th>\n      <td>0</td>\n      <td>0.000000</td>\n    </tr>\n    <tr>\n      <th>Length</th>\n      <td>0</td>\n      <td>0.000000</td>\n    </tr>\n    <tr>\n      <th>Market Share_total</th>\n      <td>0</td>\n      <td>0.000000</td>\n    </tr>\n    <tr>\n      <th>Name of show</th>\n      <td>0</td>\n      <td>0.000000</td>\n    </tr>\n    <tr>\n      <th>Genre</th>\n      <td>0</td>\n      <td>0.000000</td>\n    </tr>\n    <tr>\n      <th>First time or rerun</th>\n      <td>0</td>\n      <td>0.000000</td>\n    </tr>\n    <tr>\n      <th># of episode in the season</th>\n      <td>0</td>\n      <td>0.000000</td>\n    </tr>\n    <tr>\n      <th>Movie?</th>\n      <td>0</td>\n      <td>0.000000</td>\n    </tr>\n    <tr>\n      <th>Game of the Canadiens during episode?</th>\n      <td>0</td>\n      <td>0.000000</td>\n    </tr>\n    <tr>\n      <th>Episode</th>\n      <td>0</td>\n      <td>0.000000</td>\n    </tr>\n  </tbody>\n</table>\n</div>"
     },
     "metadata": {},
     "output_type": "execute_result",
     "execution_count": 8
    }
   ],
   "source": [
    "total = data.isnull().sum().sort_values(ascending=False)\n",
    "percent = (data.isnull().sum()/data.isnull().count()).sort_values(ascending=False)\n",
    "missing_data = pd.concat([total, percent], axis=1, keys=['Total', 'Percent'])\n",
    "missing_data.head(20)\n",
    "    "
   ]
  },
  {
   "cell_type": "code",
   "execution_count": 9,
   "metadata": {
    "pycharm": {
     "name": "#%%\n",
     "is_executing": false
    }
   },
   "outputs": [],
   "source": [
    "# corrmat = data.corr()\n",
    "# k = 10 #number of variables for heatmap\n",
    "# cols = corrmat.nlargest(k, 'SalePrice')['SalePrice'].index\n",
    "# cm = np.corrcoef(data[cols].values.T)\n",
    "# sns.set(font_scale=1.25)\n",
    "# hm = sns.heatmap(cm, cbar=True, annot=True, square=True, fmt='.2f', annot_kws={'size': 10}, yticklabels=cols.values, xticklabels=cols.values)\n",
    "\n"
   ]
  },
  {
   "cell_type": "code",
   "execution_count": 10,
   "metadata": {
    "pycharm": {
     "name": "#%%\n",
     "is_executing": false
    }
   },
   "outputs": [],
   "source": [
    "data.drop(columns[18],axis=1 , inplace=True)\n"
   ]
  },
  {
   "cell_type": "code",
   "execution_count": 11,
   "metadata": {
    "pycharm": {
     "name": "#%%\n",
     "is_executing": false
    }
   },
   "outputs": [
    {
     "data": {
      "text/plain": "18"
     },
     "metadata": {},
     "output_type": "execute_result",
     "execution_count": 11
    }
   ],
   "source": [
    "columns = data.columns\n",
    "len(columns)"
   ]
  },
  {
   "cell_type": "code",
   "execution_count": 12,
   "metadata": {
    "pycharm": {
     "name": "#%%\n",
     "is_executing": false
    }
   },
   "outputs": [
    {
     "data": {
      "text/plain": "0         06:00:00\n1         08:00:00\n2         08:30:00\n3         09:00:00\n4         10:00:00\n            ...   \n616651    08:00:00\n616652    08:30:00\n616653    09:00:00\n616654    10:00:00\n616655    11:00:00\nName: Start_time, Length: 616656, dtype: object"
     },
     "metadata": {},
     "output_type": "execute_result",
     "execution_count": 12
    }
   ],
   "source": [
    "#temp['Start'] = data['Start_time']\n",
    "data['Start_time'] = data.Start_time.str.split(expand = True)[1]\n",
    "data['Start_time']\n"
   ]
  },
  {
   "cell_type": "code",
   "execution_count": 13,
   "metadata": {
    "pycharm": {
     "name": "#%%\n",
     "is_executing": false
    }
   },
   "outputs": [],
   "source": [
    "data['End_time'] = data.End_time.str.split(expand=True)[1]"
   ]
  },
  {
   "cell_type": "code",
   "execution_count": 14,
   "metadata": {
    "pycharm": {
     "name": "#%%\n",
     "is_executing": false
    }
   },
   "outputs": [
    {
     "data": {
      "text/plain": "                                    Episode  Station       Channel Type  \\\n0                              Vidéoclips V  V Total    General Channel   \n1                       Apollo dans l'frigo  V Total    General Channel   \n2                             Infopublicité  V Total    General Channel   \n3                                Infos, Les  V Total    General Channel   \n4                Souper presque parfait, Un  V Total    General Channel   \n...                                     ...      ...                ...   \n616651  Backstage : Les coulisses du succès    VRAK+  Specialty Channel   \n616652                            Le Studio    VRAK+  Specialty Channel   \n616653                 Jane l'Immaculée (M)    VRAK+  Specialty Channel   \n616654                 Jane l'Immaculée (M)    VRAK+  Specialty Channel   \n616655                         Mom V.F. (M)    VRAK+  Specialty Channel   \n\n        Season  Year        Date Day of week Start_time  End_time  Length  \\\n0         Fall  2016  2016-08-29      Monday   06:00:00  08:00:00       8   \n1         Fall  2016  2016-08-29      Monday   08:00:00  08:30:00       2   \n2         Fall  2016  2016-08-29      Monday   08:30:00  09:00:00       2   \n3         Fall  2016  2016-08-29      Monday   09:00:00  10:00:00       4   \n4         Fall  2016  2016-08-29      Monday   10:00:00  10:30:00       2   \n...        ...   ...         ...         ...        ...       ...     ...   \n616651  Winter  2019  2019-01-22     Tuesday   08:00:00  08:30:00       2   \n616652  Winter  2019  2019-01-22     Tuesday   08:30:00  09:00:00       2   \n616653  Winter  2019  2019-01-22     Tuesday   09:00:00  10:00:00       4   \n616654  Winter  2019  2019-01-22     Tuesday   10:00:00  11:00:00       4   \n616655  Winter  2019  2019-01-22     Tuesday   11:00:00  11:30:00       2   \n\n                               Name of show         Name of episode  \\\n0                              Vidéoclips V                     NaN   \n1                       Apollo dans l'frigo                     NaN   \n2                             Infopublicité                     NaN   \n3                                Infos, Les                     NaN   \n4                Souper presque parfait, Un                     NaN   \n...                                     ...                     ...   \n616651  Backstage : Les coulisses du succès          Tous en choeur   \n616652                            Le Studio  On tourne et on tourne   \n616653                 Jane l'Immaculée (M)     L'effet d'une bombe   \n616654                 Jane l'Immaculée (M)          Nouvelle donne   \n616655                         Mom V.F. (M)    Les bons samaritains   \n\n                                                 Genre First time or rerun  \\\n0                                    Music Video Clips                  No   \n1        Informal Education and Recreation and Leisure                  No   \n2       Infomercials, Promotional and Corporate Videos                  No   \n3                                                 News                  No   \n4                                     Reality Programs                  No   \n...                                                ...                 ...   \n616651                         Ongoing Dramatic Series                  No   \n616652                         Ongoing Dramatic Series                  No   \n616653                 Ongoing Comedy Series (Sitcoms)                  No   \n616654                 Ongoing Comedy Series (Sitcoms)                  No   \n616655                 Ongoing Comedy Series (Sitcoms)                  No   \n\n       # of episode in the season Movie?  \\\n0                             Yes     No   \n1                             Yes     No   \n2                             Yes     No   \n3                             Yes     No   \n4                             Yes     No   \n...                           ...    ...   \n616651                        Yes     No   \n616652                        Yes     No   \n616653                        Yes     No   \n616654                        Yes     No   \n616655                        Yes     No   \n\n       Game of the Canadiens during episode?  Market Share_total  \n0                                         No                 0.9  \n1                                         No                 0.5  \n2                                         No                 0.3  \n3                                         No                 1.7  \n4                                         No                 2.2  \n...                                      ...                 ...  \n616651                                    No                 0.0  \n616652                                    No                 1.1  \n616653                                    No                 0.3  \n616654                                    No                 0.4  \n616655                                    No                 1.6  \n\n[616656 rows x 18 columns]",
      "text/html": "<div>\n<style scoped>\n    .dataframe tbody tr th:only-of-type {\n        vertical-align: middle;\n    }\n\n    .dataframe tbody tr th {\n        vertical-align: top;\n    }\n\n    .dataframe thead th {\n        text-align: right;\n    }\n</style>\n<table border=\"1\" class=\"dataframe\">\n  <thead>\n    <tr style=\"text-align: right;\">\n      <th></th>\n      <th>Episode</th>\n      <th>Station</th>\n      <th>Channel Type</th>\n      <th>Season</th>\n      <th>Year</th>\n      <th>Date</th>\n      <th>Day of week</th>\n      <th>Start_time</th>\n      <th>End_time</th>\n      <th>Length</th>\n      <th>Name of show</th>\n      <th>Name of episode</th>\n      <th>Genre</th>\n      <th>First time or rerun</th>\n      <th># of episode in the season</th>\n      <th>Movie?</th>\n      <th>Game of the Canadiens during episode?</th>\n      <th>Market Share_total</th>\n    </tr>\n  </thead>\n  <tbody>\n    <tr>\n      <th>0</th>\n      <td>Vidéoclips V</td>\n      <td>V Total</td>\n      <td>General Channel</td>\n      <td>Fall</td>\n      <td>2016</td>\n      <td>2016-08-29</td>\n      <td>Monday</td>\n      <td>06:00:00</td>\n      <td>08:00:00</td>\n      <td>8</td>\n      <td>Vidéoclips V</td>\n      <td>NaN</td>\n      <td>Music Video Clips</td>\n      <td>No</td>\n      <td>Yes</td>\n      <td>No</td>\n      <td>No</td>\n      <td>0.9</td>\n    </tr>\n    <tr>\n      <th>1</th>\n      <td>Apollo dans l'frigo</td>\n      <td>V Total</td>\n      <td>General Channel</td>\n      <td>Fall</td>\n      <td>2016</td>\n      <td>2016-08-29</td>\n      <td>Monday</td>\n      <td>08:00:00</td>\n      <td>08:30:00</td>\n      <td>2</td>\n      <td>Apollo dans l'frigo</td>\n      <td>NaN</td>\n      <td>Informal Education and Recreation and Leisure</td>\n      <td>No</td>\n      <td>Yes</td>\n      <td>No</td>\n      <td>No</td>\n      <td>0.5</td>\n    </tr>\n    <tr>\n      <th>2</th>\n      <td>Infopublicité</td>\n      <td>V Total</td>\n      <td>General Channel</td>\n      <td>Fall</td>\n      <td>2016</td>\n      <td>2016-08-29</td>\n      <td>Monday</td>\n      <td>08:30:00</td>\n      <td>09:00:00</td>\n      <td>2</td>\n      <td>Infopublicité</td>\n      <td>NaN</td>\n      <td>Infomercials, Promotional and Corporate Videos</td>\n      <td>No</td>\n      <td>Yes</td>\n      <td>No</td>\n      <td>No</td>\n      <td>0.3</td>\n    </tr>\n    <tr>\n      <th>3</th>\n      <td>Infos, Les</td>\n      <td>V Total</td>\n      <td>General Channel</td>\n      <td>Fall</td>\n      <td>2016</td>\n      <td>2016-08-29</td>\n      <td>Monday</td>\n      <td>09:00:00</td>\n      <td>10:00:00</td>\n      <td>4</td>\n      <td>Infos, Les</td>\n      <td>NaN</td>\n      <td>News</td>\n      <td>No</td>\n      <td>Yes</td>\n      <td>No</td>\n      <td>No</td>\n      <td>1.7</td>\n    </tr>\n    <tr>\n      <th>4</th>\n      <td>Souper presque parfait, Un</td>\n      <td>V Total</td>\n      <td>General Channel</td>\n      <td>Fall</td>\n      <td>2016</td>\n      <td>2016-08-29</td>\n      <td>Monday</td>\n      <td>10:00:00</td>\n      <td>10:30:00</td>\n      <td>2</td>\n      <td>Souper presque parfait, Un</td>\n      <td>NaN</td>\n      <td>Reality Programs</td>\n      <td>No</td>\n      <td>Yes</td>\n      <td>No</td>\n      <td>No</td>\n      <td>2.2</td>\n    </tr>\n    <tr>\n      <th>...</th>\n      <td>...</td>\n      <td>...</td>\n      <td>...</td>\n      <td>...</td>\n      <td>...</td>\n      <td>...</td>\n      <td>...</td>\n      <td>...</td>\n      <td>...</td>\n      <td>...</td>\n      <td>...</td>\n      <td>...</td>\n      <td>...</td>\n      <td>...</td>\n      <td>...</td>\n      <td>...</td>\n      <td>...</td>\n      <td>...</td>\n    </tr>\n    <tr>\n      <th>616651</th>\n      <td>Backstage : Les coulisses du succès</td>\n      <td>VRAK+</td>\n      <td>Specialty Channel</td>\n      <td>Winter</td>\n      <td>2019</td>\n      <td>2019-01-22</td>\n      <td>Tuesday</td>\n      <td>08:00:00</td>\n      <td>08:30:00</td>\n      <td>2</td>\n      <td>Backstage : Les coulisses du succès</td>\n      <td>Tous en choeur</td>\n      <td>Ongoing Dramatic Series</td>\n      <td>No</td>\n      <td>Yes</td>\n      <td>No</td>\n      <td>No</td>\n      <td>0.0</td>\n    </tr>\n    <tr>\n      <th>616652</th>\n      <td>Le Studio</td>\n      <td>VRAK+</td>\n      <td>Specialty Channel</td>\n      <td>Winter</td>\n      <td>2019</td>\n      <td>2019-01-22</td>\n      <td>Tuesday</td>\n      <td>08:30:00</td>\n      <td>09:00:00</td>\n      <td>2</td>\n      <td>Le Studio</td>\n      <td>On tourne et on tourne</td>\n      <td>Ongoing Dramatic Series</td>\n      <td>No</td>\n      <td>Yes</td>\n      <td>No</td>\n      <td>No</td>\n      <td>1.1</td>\n    </tr>\n    <tr>\n      <th>616653</th>\n      <td>Jane l'Immaculée (M)</td>\n      <td>VRAK+</td>\n      <td>Specialty Channel</td>\n      <td>Winter</td>\n      <td>2019</td>\n      <td>2019-01-22</td>\n      <td>Tuesday</td>\n      <td>09:00:00</td>\n      <td>10:00:00</td>\n      <td>4</td>\n      <td>Jane l'Immaculée (M)</td>\n      <td>L'effet d'une bombe</td>\n      <td>Ongoing Comedy Series (Sitcoms)</td>\n      <td>No</td>\n      <td>Yes</td>\n      <td>No</td>\n      <td>No</td>\n      <td>0.3</td>\n    </tr>\n    <tr>\n      <th>616654</th>\n      <td>Jane l'Immaculée (M)</td>\n      <td>VRAK+</td>\n      <td>Specialty Channel</td>\n      <td>Winter</td>\n      <td>2019</td>\n      <td>2019-01-22</td>\n      <td>Tuesday</td>\n      <td>10:00:00</td>\n      <td>11:00:00</td>\n      <td>4</td>\n      <td>Jane l'Immaculée (M)</td>\n      <td>Nouvelle donne</td>\n      <td>Ongoing Comedy Series (Sitcoms)</td>\n      <td>No</td>\n      <td>Yes</td>\n      <td>No</td>\n      <td>No</td>\n      <td>0.4</td>\n    </tr>\n    <tr>\n      <th>616655</th>\n      <td>Mom V.F. (M)</td>\n      <td>VRAK+</td>\n      <td>Specialty Channel</td>\n      <td>Winter</td>\n      <td>2019</td>\n      <td>2019-01-22</td>\n      <td>Tuesday</td>\n      <td>11:00:00</td>\n      <td>11:30:00</td>\n      <td>2</td>\n      <td>Mom V.F. (M)</td>\n      <td>Les bons samaritains</td>\n      <td>Ongoing Comedy Series (Sitcoms)</td>\n      <td>No</td>\n      <td>Yes</td>\n      <td>No</td>\n      <td>No</td>\n      <td>1.6</td>\n    </tr>\n  </tbody>\n</table>\n<p>616656 rows × 18 columns</p>\n</div>"
     },
     "metadata": {},
     "output_type": "execute_result",
     "execution_count": 14
    }
   ],
   "source": [
    "data"
   ]
  },
  {
   "cell_type": "code",
   "execution_count": 15,
   "metadata": {
    "pycharm": {
     "name": "#%%\n",
     "is_executing": false
    }
   },
   "outputs": [],
   "source": [
    "# data.drop(columns[1],axis=1,inplace=True)\n",
    "data.drop(columns[11], axis=1 , inplace=True)\n",
    "# data.drop(columns[0], axis=1 , inplace=True)"
   ]
  },
  {
   "cell_type": "code",
   "execution_count": 16,
   "metadata": {
    "pycharm": {
     "name": "#%%\n",
     "is_executing": false
    }
   },
   "outputs": [],
   "source": [
    "data = data.dropna(axis=0)"
   ]
  },
  {
   "cell_type": "code",
   "execution_count": 17,
   "metadata": {
    "pycharm": {
     "name": "#%%\n",
     "is_executing": false
    }
   },
   "outputs": [
    {
     "data": {
      "text/plain": "Episode                                  0\nStation                                  0\nChannel Type                             0\nSeason                                   0\nYear                                     0\nDate                                     0\nDay of week                              0\nStart_time                               0\nEnd_time                                 0\nLength                                   0\nName of show                             0\nGenre                                    0\nFirst time or rerun                      0\n# of episode in the season               0\nMovie?                                   0\nGame of the Canadiens during episode?    0\nMarket Share_total                       0\ndtype: int64"
     },
     "metadata": {},
     "output_type": "execute_result",
     "execution_count": 17
    }
   ],
   "source": [
    "data.isnull().sum() "
   ]
  },
  {
   "cell_type": "code",
   "execution_count": 18,
   "metadata": {
    "pycharm": {
     "name": "#%%\n",
     "is_executing": false
    }
   },
   "outputs": [
    {
     "data": {
      "text/plain": "(616613, 17)"
     },
     "metadata": {},
     "output_type": "execute_result",
     "execution_count": 18
    }
   ],
   "source": [
    "data.shape"
   ]
  },
  {
   "cell_type": "code",
   "execution_count": 19,
   "metadata": {
    "pycharm": {
     "name": "#%%\n",
     "is_executing": false
    }
   },
   "outputs": [
    {
     "data": {
      "text/plain": "17"
     },
     "metadata": {},
     "output_type": "execute_result",
     "execution_count": 19
    }
   ],
   "source": [
    "columns = data.columns\n",
    "len(columns)\n"
   ]
  },
  {
   "cell_type": "code",
   "execution_count": 20,
   "metadata": {
    "pycharm": {
     "name": "#%%\n",
     "is_executing": false
    }
   },
   "outputs": [
    {
     "name": "stderr",
     "text": [
      "c:\\users\\parastoo\\pycharmprojects\\yapaitek\\venv\\lib\\site-packages\\pandas\\core\\frame.py:4117: SettingWithCopyWarning: \nA value is trying to be set on a copy of a slice from a DataFrame\n\nSee the caveats in the documentation: http://pandas.pydata.org/pandas-docs/stable/user_guide/indexing.html#returning-a-view-versus-a-copy\n  errors=errors,\n"
     ],
     "output_type": "stream"
    }
   ],
   "source": [
    "data.drop('Name of show',axis=1,inplace=True)"
   ]
  },
  {
   "cell_type": "markdown",
   "metadata": {},
   "source": [
    "Mapping\n"
   ]
  },
  {
   "cell_type": "code",
   "execution_count": 21,
   "metadata": {
    "pycharm": {
     "name": "#%%\n",
     "is_executing": false
    }
   },
   "outputs": [
    {
     "data": {
      "text/plain": "                                    Episode  Station       Channel Type  \\\n0                              Vidéoclips V  V Total    General Channel   \n1                       Apollo dans l'frigo  V Total    General Channel   \n2                             Infopublicité  V Total    General Channel   \n3                                Infos, Les  V Total    General Channel   \n4                Souper presque parfait, Un  V Total    General Channel   \n...                                     ...      ...                ...   \n616651  Backstage : Les coulisses du succès    VRAK+  Specialty Channel   \n616652                            Le Studio    VRAK+  Specialty Channel   \n616653                 Jane l'Immaculée (M)    VRAK+  Specialty Channel   \n616654                 Jane l'Immaculée (M)    VRAK+  Specialty Channel   \n616655                         Mom V.F. (M)    VRAK+  Specialty Channel   \n\n        Season  Year        Date Day of week Start_time  End_time  Length  \\\n0         Fall  2016  2016-08-29      Monday   06:00:00  08:00:00       8   \n1         Fall  2016  2016-08-29      Monday   08:00:00  08:30:00       2   \n2         Fall  2016  2016-08-29      Monday   08:30:00  09:00:00       2   \n3         Fall  2016  2016-08-29      Monday   09:00:00  10:00:00       4   \n4         Fall  2016  2016-08-29      Monday   10:00:00  10:30:00       2   \n...        ...   ...         ...         ...        ...       ...     ...   \n616651  Winter  2019  2019-01-22     Tuesday   08:00:00  08:30:00       2   \n616652  Winter  2019  2019-01-22     Tuesday   08:30:00  09:00:00       2   \n616653  Winter  2019  2019-01-22     Tuesday   09:00:00  10:00:00       4   \n616654  Winter  2019  2019-01-22     Tuesday   10:00:00  11:00:00       4   \n616655  Winter  2019  2019-01-22     Tuesday   11:00:00  11:30:00       2   \n\n                                                 Genre First time or rerun  \\\n0                                    Music Video Clips                  No   \n1        Informal Education and Recreation and Leisure                  No   \n2       Infomercials, Promotional and Corporate Videos                  No   \n3                                                 News                  No   \n4                                     Reality Programs                  No   \n...                                                ...                 ...   \n616651                         Ongoing Dramatic Series                  No   \n616652                         Ongoing Dramatic Series                  No   \n616653                 Ongoing Comedy Series (Sitcoms)                  No   \n616654                 Ongoing Comedy Series (Sitcoms)                  No   \n616655                 Ongoing Comedy Series (Sitcoms)                  No   \n\n       # of episode in the season Movie?  \\\n0                             Yes     No   \n1                             Yes     No   \n2                             Yes     No   \n3                             Yes     No   \n4                             Yes     No   \n...                           ...    ...   \n616651                        Yes     No   \n616652                        Yes     No   \n616653                        Yes     No   \n616654                        Yes     No   \n616655                        Yes     No   \n\n       Game of the Canadiens during episode?  Market Share_total  \n0                                         No                 0.9  \n1                                         No                 0.5  \n2                                         No                 0.3  \n3                                         No                 1.7  \n4                                         No                 2.2  \n...                                      ...                 ...  \n616651                                    No                 0.0  \n616652                                    No                 1.1  \n616653                                    No                 0.3  \n616654                                    No                 0.4  \n616655                                    No                 1.6  \n\n[616613 rows x 16 columns]",
      "text/html": "<div>\n<style scoped>\n    .dataframe tbody tr th:only-of-type {\n        vertical-align: middle;\n    }\n\n    .dataframe tbody tr th {\n        vertical-align: top;\n    }\n\n    .dataframe thead th {\n        text-align: right;\n    }\n</style>\n<table border=\"1\" class=\"dataframe\">\n  <thead>\n    <tr style=\"text-align: right;\">\n      <th></th>\n      <th>Episode</th>\n      <th>Station</th>\n      <th>Channel Type</th>\n      <th>Season</th>\n      <th>Year</th>\n      <th>Date</th>\n      <th>Day of week</th>\n      <th>Start_time</th>\n      <th>End_time</th>\n      <th>Length</th>\n      <th>Genre</th>\n      <th>First time or rerun</th>\n      <th># of episode in the season</th>\n      <th>Movie?</th>\n      <th>Game of the Canadiens during episode?</th>\n      <th>Market Share_total</th>\n    </tr>\n  </thead>\n  <tbody>\n    <tr>\n      <th>0</th>\n      <td>Vidéoclips V</td>\n      <td>V Total</td>\n      <td>General Channel</td>\n      <td>Fall</td>\n      <td>2016</td>\n      <td>2016-08-29</td>\n      <td>Monday</td>\n      <td>06:00:00</td>\n      <td>08:00:00</td>\n      <td>8</td>\n      <td>Music Video Clips</td>\n      <td>No</td>\n      <td>Yes</td>\n      <td>No</td>\n      <td>No</td>\n      <td>0.9</td>\n    </tr>\n    <tr>\n      <th>1</th>\n      <td>Apollo dans l'frigo</td>\n      <td>V Total</td>\n      <td>General Channel</td>\n      <td>Fall</td>\n      <td>2016</td>\n      <td>2016-08-29</td>\n      <td>Monday</td>\n      <td>08:00:00</td>\n      <td>08:30:00</td>\n      <td>2</td>\n      <td>Informal Education and Recreation and Leisure</td>\n      <td>No</td>\n      <td>Yes</td>\n      <td>No</td>\n      <td>No</td>\n      <td>0.5</td>\n    </tr>\n    <tr>\n      <th>2</th>\n      <td>Infopublicité</td>\n      <td>V Total</td>\n      <td>General Channel</td>\n      <td>Fall</td>\n      <td>2016</td>\n      <td>2016-08-29</td>\n      <td>Monday</td>\n      <td>08:30:00</td>\n      <td>09:00:00</td>\n      <td>2</td>\n      <td>Infomercials, Promotional and Corporate Videos</td>\n      <td>No</td>\n      <td>Yes</td>\n      <td>No</td>\n      <td>No</td>\n      <td>0.3</td>\n    </tr>\n    <tr>\n      <th>3</th>\n      <td>Infos, Les</td>\n      <td>V Total</td>\n      <td>General Channel</td>\n      <td>Fall</td>\n      <td>2016</td>\n      <td>2016-08-29</td>\n      <td>Monday</td>\n      <td>09:00:00</td>\n      <td>10:00:00</td>\n      <td>4</td>\n      <td>News</td>\n      <td>No</td>\n      <td>Yes</td>\n      <td>No</td>\n      <td>No</td>\n      <td>1.7</td>\n    </tr>\n    <tr>\n      <th>4</th>\n      <td>Souper presque parfait, Un</td>\n      <td>V Total</td>\n      <td>General Channel</td>\n      <td>Fall</td>\n      <td>2016</td>\n      <td>2016-08-29</td>\n      <td>Monday</td>\n      <td>10:00:00</td>\n      <td>10:30:00</td>\n      <td>2</td>\n      <td>Reality Programs</td>\n      <td>No</td>\n      <td>Yes</td>\n      <td>No</td>\n      <td>No</td>\n      <td>2.2</td>\n    </tr>\n    <tr>\n      <th>...</th>\n      <td>...</td>\n      <td>...</td>\n      <td>...</td>\n      <td>...</td>\n      <td>...</td>\n      <td>...</td>\n      <td>...</td>\n      <td>...</td>\n      <td>...</td>\n      <td>...</td>\n      <td>...</td>\n      <td>...</td>\n      <td>...</td>\n      <td>...</td>\n      <td>...</td>\n      <td>...</td>\n    </tr>\n    <tr>\n      <th>616651</th>\n      <td>Backstage : Les coulisses du succès</td>\n      <td>VRAK+</td>\n      <td>Specialty Channel</td>\n      <td>Winter</td>\n      <td>2019</td>\n      <td>2019-01-22</td>\n      <td>Tuesday</td>\n      <td>08:00:00</td>\n      <td>08:30:00</td>\n      <td>2</td>\n      <td>Ongoing Dramatic Series</td>\n      <td>No</td>\n      <td>Yes</td>\n      <td>No</td>\n      <td>No</td>\n      <td>0.0</td>\n    </tr>\n    <tr>\n      <th>616652</th>\n      <td>Le Studio</td>\n      <td>VRAK+</td>\n      <td>Specialty Channel</td>\n      <td>Winter</td>\n      <td>2019</td>\n      <td>2019-01-22</td>\n      <td>Tuesday</td>\n      <td>08:30:00</td>\n      <td>09:00:00</td>\n      <td>2</td>\n      <td>Ongoing Dramatic Series</td>\n      <td>No</td>\n      <td>Yes</td>\n      <td>No</td>\n      <td>No</td>\n      <td>1.1</td>\n    </tr>\n    <tr>\n      <th>616653</th>\n      <td>Jane l'Immaculée (M)</td>\n      <td>VRAK+</td>\n      <td>Specialty Channel</td>\n      <td>Winter</td>\n      <td>2019</td>\n      <td>2019-01-22</td>\n      <td>Tuesday</td>\n      <td>09:00:00</td>\n      <td>10:00:00</td>\n      <td>4</td>\n      <td>Ongoing Comedy Series (Sitcoms)</td>\n      <td>No</td>\n      <td>Yes</td>\n      <td>No</td>\n      <td>No</td>\n      <td>0.3</td>\n    </tr>\n    <tr>\n      <th>616654</th>\n      <td>Jane l'Immaculée (M)</td>\n      <td>VRAK+</td>\n      <td>Specialty Channel</td>\n      <td>Winter</td>\n      <td>2019</td>\n      <td>2019-01-22</td>\n      <td>Tuesday</td>\n      <td>10:00:00</td>\n      <td>11:00:00</td>\n      <td>4</td>\n      <td>Ongoing Comedy Series (Sitcoms)</td>\n      <td>No</td>\n      <td>Yes</td>\n      <td>No</td>\n      <td>No</td>\n      <td>0.4</td>\n    </tr>\n    <tr>\n      <th>616655</th>\n      <td>Mom V.F. (M)</td>\n      <td>VRAK+</td>\n      <td>Specialty Channel</td>\n      <td>Winter</td>\n      <td>2019</td>\n      <td>2019-01-22</td>\n      <td>Tuesday</td>\n      <td>11:00:00</td>\n      <td>11:30:00</td>\n      <td>2</td>\n      <td>Ongoing Comedy Series (Sitcoms)</td>\n      <td>No</td>\n      <td>Yes</td>\n      <td>No</td>\n      <td>No</td>\n      <td>1.6</td>\n    </tr>\n  </tbody>\n</table>\n<p>616613 rows × 16 columns</p>\n</div>"
     },
     "metadata": {},
     "output_type": "execute_result",
     "execution_count": 21
    }
   ],
   "source": [
    "data"
   ]
  },
  {
   "cell_type": "code",
   "execution_count": 22,
   "metadata": {
    "pycharm": {
     "name": "#%%\n",
     "is_executing": false
    }
   },
   "outputs": [],
   "source": [
    "def generate_index(list):\n",
    "    return {value:key for key, value in enumerate(list,1)}"
   ]
  },
  {
   "cell_type": "code",
   "execution_count": 23,
   "metadata": {
    "pycharm": {
     "name": "#%%\n",
     "is_executing": false
    }
   },
   "outputs": [],
   "source": [
    "binary_map = {\"Yes\" : 1 , \"No\" :0}\n",
    "episode_map = generate_index(data['Episode'].unique())\n",
    "station_map = generate_index(data['Station'].unique())\n",
    "season_map = generate_index(data['Season'].unique())\n",
    "channel_map = generate_index(data['Channel Type'].unique())\n",
    "year_map = generate_index(data[\"Year\"].unique())\n",
    "week_map = generate_index(data['Day of week'].unique())\n",
    "genre_map = generate_index(data['Genre'].unique())\n",
    "date_map = generate_index(data['Date'].unique())\n"
   ]
  },
  {
   "cell_type": "code",
   "execution_count": 24,
   "metadata": {
    "pycharm": {
     "name": "#%%\n",
     "is_executing": false
    }
   },
   "outputs": [
    {
     "name": "stderr",
     "text": [
      "c:\\users\\parastoo\\pycharmprojects\\yapaitek\\venv\\lib\\site-packages\\ipykernel_launcher.py:1: SettingWithCopyWarning: \nA value is trying to be set on a copy of a slice from a DataFrame.\nTry using .loc[row_indexer,col_indexer] = value instead\n\nSee the caveats in the documentation: http://pandas.pydata.org/pandas-docs/stable/user_guide/indexing.html#returning-a-view-versus-a-copy\n  \"\"\"Entry point for launching an IPython kernel.\nc:\\users\\parastoo\\pycharmprojects\\yapaitek\\venv\\lib\\site-packages\\ipykernel_launcher.py:2: SettingWithCopyWarning: \nA value is trying to be set on a copy of a slice from a DataFrame.\nTry using .loc[row_indexer,col_indexer] = value instead\n\nSee the caveats in the documentation: http://pandas.pydata.org/pandas-docs/stable/user_guide/indexing.html#returning-a-view-versus-a-copy\n  \n",
      "c:\\users\\parastoo\\pycharmprojects\\yapaitek\\venv\\lib\\site-packages\\ipykernel_launcher.py:3: SettingWithCopyWarning: \nA value is trying to be set on a copy of a slice from a DataFrame.\nTry using .loc[row_indexer,col_indexer] = value instead\n\nSee the caveats in the documentation: http://pandas.pydata.org/pandas-docs/stable/user_guide/indexing.html#returning-a-view-versus-a-copy\n  This is separate from the ipykernel package so we can avoid doing imports until\nc:\\users\\parastoo\\pycharmprojects\\yapaitek\\venv\\lib\\site-packages\\ipykernel_launcher.py:4: SettingWithCopyWarning: \nA value is trying to be set on a copy of a slice from a DataFrame.\nTry using .loc[row_indexer,col_indexer] = value instead\n\nSee the caveats in the documentation: http://pandas.pydata.org/pandas-docs/stable/user_guide/indexing.html#returning-a-view-versus-a-copy\n  after removing the cwd from sys.path.\nc:\\users\\parastoo\\pycharmprojects\\yapaitek\\venv\\lib\\site-packages\\ipykernel_launcher.py:5: SettingWithCopyWarning: \nA value is trying to be set on a copy of a slice from a DataFrame.\nTry using .loc[row_indexer,col_indexer] = value instead\n\nSee the caveats in the documentation: http://pandas.pydata.org/pandas-docs/stable/user_guide/indexing.html#returning-a-view-versus-a-copy\n  \"\"\"\n",
      "c:\\users\\parastoo\\pycharmprojects\\yapaitek\\venv\\lib\\site-packages\\ipykernel_launcher.py:6: SettingWithCopyWarning: \nA value is trying to be set on a copy of a slice from a DataFrame.\nTry using .loc[row_indexer,col_indexer] = value instead\n\nSee the caveats in the documentation: http://pandas.pydata.org/pandas-docs/stable/user_guide/indexing.html#returning-a-view-versus-a-copy\n  \nc:\\users\\parastoo\\pycharmprojects\\yapaitek\\venv\\lib\\site-packages\\ipykernel_launcher.py:7: SettingWithCopyWarning: \nA value is trying to be set on a copy of a slice from a DataFrame.\nTry using .loc[row_indexer,col_indexer] = value instead\n\nSee the caveats in the documentation: http://pandas.pydata.org/pandas-docs/stable/user_guide/indexing.html#returning-a-view-versus-a-copy\n  import sys\nc:\\users\\parastoo\\pycharmprojects\\yapaitek\\venv\\lib\\site-packages\\ipykernel_launcher.py:8: SettingWithCopyWarning: \nA value is trying to be set on a copy of a slice from a DataFrame.\nTry using .loc[row_indexer,col_indexer] = value instead\n\nSee the caveats in the documentation: http://pandas.pydata.org/pandas-docs/stable/user_guide/indexing.html#returning-a-view-versus-a-copy\n  \n",
      "c:\\users\\parastoo\\pycharmprojects\\yapaitek\\venv\\lib\\site-packages\\ipykernel_launcher.py:9: SettingWithCopyWarning: \nA value is trying to be set on a copy of a slice from a DataFrame.\nTry using .loc[row_indexer,col_indexer] = value instead\n\nSee the caveats in the documentation: http://pandas.pydata.org/pandas-docs/stable/user_guide/indexing.html#returning-a-view-versus-a-copy\n  if __name__ == '__main__':\nc:\\users\\parastoo\\pycharmprojects\\yapaitek\\venv\\lib\\site-packages\\ipykernel_launcher.py:10: SettingWithCopyWarning: \nA value is trying to be set on a copy of a slice from a DataFrame.\nTry using .loc[row_indexer,col_indexer] = value instead\n\nSee the caveats in the documentation: http://pandas.pydata.org/pandas-docs/stable/user_guide/indexing.html#returning-a-view-versus-a-copy\n  # Remove the CWD from sys.path while we load stuff.\nc:\\users\\parastoo\\pycharmprojects\\yapaitek\\venv\\lib\\site-packages\\ipykernel_launcher.py:11: SettingWithCopyWarning: \nA value is trying to be set on a copy of a slice from a DataFrame.\nTry using .loc[row_indexer,col_indexer] = value instead\n\nSee the caveats in the documentation: http://pandas.pydata.org/pandas-docs/stable/user_guide/indexing.html#returning-a-view-versus-a-copy\n  # This is added back by InteractiveShellApp.init_path()\n"
     ],
     "output_type": "stream"
    }
   ],
   "source": [
    "data['Station'] = data['Station'].map(station_map)\n",
    "data['Episode'] = data['Episode'].map(episode_map)\n",
    "data['Channel Type'] = data['Channel Type'].map(channel_map)\n",
    "data['Season'] = data['Season'].map(season_map)\n",
    "data['Year'] = data[\"Year\"].map(year_map)\n",
    "data['Day of week'] = data['Day of week'].map(week_map)\n",
    "data['Genre'] = data['Genre'].map(genre_map)\n",
    "data['First time or rerun'] = data['First time or rerun'].map(binary_map)\n",
    "data['Movie?'] = data['Movie?'].map(binary_map)\n",
    "data['# of episode in the season'] = data['# of episode in the season'].map(binary_map)\n",
    "data['Game of the Canadiens during episode?'] = data['Game of the Canadiens during episode?'].map(binary_map)\n"
   ]
  },
  {
   "cell_type": "code",
   "execution_count": 25,
   "metadata": {
    "pycharm": {
     "name": "#%%\n",
     "is_executing": false
    }
   },
   "outputs": [
    {
     "data": {
      "text/plain": "        Episode  Station  Channel Type  Season  Year        Date  Day of week  \\\n0             1        1             1       1     1  2016-08-29            1   \n1             2        1             1       1     1  2016-08-29            1   \n2             3        1             1       1     1  2016-08-29            1   \n3             4        1             1       1     1  2016-08-29            1   \n4             5        1             1       1     1  2016-08-29            1   \n...         ...      ...           ...     ...   ...         ...          ...   \n616651     1276       20             2       2     4  2019-01-22            2   \n616652     2580       20             2       2     4  2019-01-22            2   \n616653     6605       20             2       2     4  2019-01-22            2   \n616654     6605       20             2       2     4  2019-01-22            2   \n616655     6590       20             2       2     4  2019-01-22            2   \n\n       Start_time  End_time  Length  Genre  First time or rerun  \\\n0        06:00:00  08:00:00       8      1                    0   \n1        08:00:00  08:30:00       2      2                    0   \n2        08:30:00  09:00:00       2      3                    0   \n3        09:00:00  10:00:00       4      4                    0   \n4        10:00:00  10:30:00       2      5                    0   \n...           ...       ...     ...    ...                  ...   \n616651   08:00:00  08:30:00       2      7                    0   \n616652   08:30:00  09:00:00       2      7                    0   \n616653   09:00:00  10:00:00       4     22                    0   \n616654   10:00:00  11:00:00       4     22                    0   \n616655   11:00:00  11:30:00       2     22                    0   \n\n        # of episode in the season  Movie?  \\\n0                                1       0   \n1                                1       0   \n2                                1       0   \n3                                1       0   \n4                                1       0   \n...                            ...     ...   \n616651                           1       0   \n616652                           1       0   \n616653                           1       0   \n616654                           1       0   \n616655                           1       0   \n\n        Game of the Canadiens during episode?  Market Share_total  \n0                                           0                 0.9  \n1                                           0                 0.5  \n2                                           0                 0.3  \n3                                           0                 1.7  \n4                                           0                 2.2  \n...                                       ...                 ...  \n616651                                      0                 0.0  \n616652                                      0                 1.1  \n616653                                      0                 0.3  \n616654                                      0                 0.4  \n616655                                      0                 1.6  \n\n[616613 rows x 16 columns]",
      "text/html": "<div>\n<style scoped>\n    .dataframe tbody tr th:only-of-type {\n        vertical-align: middle;\n    }\n\n    .dataframe tbody tr th {\n        vertical-align: top;\n    }\n\n    .dataframe thead th {\n        text-align: right;\n    }\n</style>\n<table border=\"1\" class=\"dataframe\">\n  <thead>\n    <tr style=\"text-align: right;\">\n      <th></th>\n      <th>Episode</th>\n      <th>Station</th>\n      <th>Channel Type</th>\n      <th>Season</th>\n      <th>Year</th>\n      <th>Date</th>\n      <th>Day of week</th>\n      <th>Start_time</th>\n      <th>End_time</th>\n      <th>Length</th>\n      <th>Genre</th>\n      <th>First time or rerun</th>\n      <th># of episode in the season</th>\n      <th>Movie?</th>\n      <th>Game of the Canadiens during episode?</th>\n      <th>Market Share_total</th>\n    </tr>\n  </thead>\n  <tbody>\n    <tr>\n      <th>0</th>\n      <td>1</td>\n      <td>1</td>\n      <td>1</td>\n      <td>1</td>\n      <td>1</td>\n      <td>2016-08-29</td>\n      <td>1</td>\n      <td>06:00:00</td>\n      <td>08:00:00</td>\n      <td>8</td>\n      <td>1</td>\n      <td>0</td>\n      <td>1</td>\n      <td>0</td>\n      <td>0</td>\n      <td>0.9</td>\n    </tr>\n    <tr>\n      <th>1</th>\n      <td>2</td>\n      <td>1</td>\n      <td>1</td>\n      <td>1</td>\n      <td>1</td>\n      <td>2016-08-29</td>\n      <td>1</td>\n      <td>08:00:00</td>\n      <td>08:30:00</td>\n      <td>2</td>\n      <td>2</td>\n      <td>0</td>\n      <td>1</td>\n      <td>0</td>\n      <td>0</td>\n      <td>0.5</td>\n    </tr>\n    <tr>\n      <th>2</th>\n      <td>3</td>\n      <td>1</td>\n      <td>1</td>\n      <td>1</td>\n      <td>1</td>\n      <td>2016-08-29</td>\n      <td>1</td>\n      <td>08:30:00</td>\n      <td>09:00:00</td>\n      <td>2</td>\n      <td>3</td>\n      <td>0</td>\n      <td>1</td>\n      <td>0</td>\n      <td>0</td>\n      <td>0.3</td>\n    </tr>\n    <tr>\n      <th>3</th>\n      <td>4</td>\n      <td>1</td>\n      <td>1</td>\n      <td>1</td>\n      <td>1</td>\n      <td>2016-08-29</td>\n      <td>1</td>\n      <td>09:00:00</td>\n      <td>10:00:00</td>\n      <td>4</td>\n      <td>4</td>\n      <td>0</td>\n      <td>1</td>\n      <td>0</td>\n      <td>0</td>\n      <td>1.7</td>\n    </tr>\n    <tr>\n      <th>4</th>\n      <td>5</td>\n      <td>1</td>\n      <td>1</td>\n      <td>1</td>\n      <td>1</td>\n      <td>2016-08-29</td>\n      <td>1</td>\n      <td>10:00:00</td>\n      <td>10:30:00</td>\n      <td>2</td>\n      <td>5</td>\n      <td>0</td>\n      <td>1</td>\n      <td>0</td>\n      <td>0</td>\n      <td>2.2</td>\n    </tr>\n    <tr>\n      <th>...</th>\n      <td>...</td>\n      <td>...</td>\n      <td>...</td>\n      <td>...</td>\n      <td>...</td>\n      <td>...</td>\n      <td>...</td>\n      <td>...</td>\n      <td>...</td>\n      <td>...</td>\n      <td>...</td>\n      <td>...</td>\n      <td>...</td>\n      <td>...</td>\n      <td>...</td>\n      <td>...</td>\n    </tr>\n    <tr>\n      <th>616651</th>\n      <td>1276</td>\n      <td>20</td>\n      <td>2</td>\n      <td>2</td>\n      <td>4</td>\n      <td>2019-01-22</td>\n      <td>2</td>\n      <td>08:00:00</td>\n      <td>08:30:00</td>\n      <td>2</td>\n      <td>7</td>\n      <td>0</td>\n      <td>1</td>\n      <td>0</td>\n      <td>0</td>\n      <td>0.0</td>\n    </tr>\n    <tr>\n      <th>616652</th>\n      <td>2580</td>\n      <td>20</td>\n      <td>2</td>\n      <td>2</td>\n      <td>4</td>\n      <td>2019-01-22</td>\n      <td>2</td>\n      <td>08:30:00</td>\n      <td>09:00:00</td>\n      <td>2</td>\n      <td>7</td>\n      <td>0</td>\n      <td>1</td>\n      <td>0</td>\n      <td>0</td>\n      <td>1.1</td>\n    </tr>\n    <tr>\n      <th>616653</th>\n      <td>6605</td>\n      <td>20</td>\n      <td>2</td>\n      <td>2</td>\n      <td>4</td>\n      <td>2019-01-22</td>\n      <td>2</td>\n      <td>09:00:00</td>\n      <td>10:00:00</td>\n      <td>4</td>\n      <td>22</td>\n      <td>0</td>\n      <td>1</td>\n      <td>0</td>\n      <td>0</td>\n      <td>0.3</td>\n    </tr>\n    <tr>\n      <th>616654</th>\n      <td>6605</td>\n      <td>20</td>\n      <td>2</td>\n      <td>2</td>\n      <td>4</td>\n      <td>2019-01-22</td>\n      <td>2</td>\n      <td>10:00:00</td>\n      <td>11:00:00</td>\n      <td>4</td>\n      <td>22</td>\n      <td>0</td>\n      <td>1</td>\n      <td>0</td>\n      <td>0</td>\n      <td>0.4</td>\n    </tr>\n    <tr>\n      <th>616655</th>\n      <td>6590</td>\n      <td>20</td>\n      <td>2</td>\n      <td>2</td>\n      <td>4</td>\n      <td>2019-01-22</td>\n      <td>2</td>\n      <td>11:00:00</td>\n      <td>11:30:00</td>\n      <td>2</td>\n      <td>22</td>\n      <td>0</td>\n      <td>1</td>\n      <td>0</td>\n      <td>0</td>\n      <td>1.6</td>\n    </tr>\n  </tbody>\n</table>\n<p>616613 rows × 16 columns</p>\n</div>"
     },
     "metadata": {},
     "output_type": "execute_result",
     "execution_count": 25
    }
   ],
   "source": [
    "data"
   ]
  },
  {
   "cell_type": "code",
   "execution_count": 26,
   "metadata": {
    "pycharm": {
     "name": "#%%\n",
     "is_executing": false
    }
   },
   "outputs": [
    {
     "name": "stderr",
     "text": [
      "c:\\users\\parastoo\\pycharmprojects\\yapaitek\\venv\\lib\\site-packages\\ipykernel_launcher.py:1: SettingWithCopyWarning: \nA value is trying to be set on a copy of a slice from a DataFrame.\nTry using .loc[row_indexer,col_indexer] = value instead\n\nSee the caveats in the documentation: http://pandas.pydata.org/pandas-docs/stable/user_guide/indexing.html#returning-a-view-versus-a-copy\n  \"\"\"Entry point for launching an IPython kernel.\nc:\\users\\parastoo\\pycharmprojects\\yapaitek\\venv\\lib\\site-packages\\ipykernel_launcher.py:2: SettingWithCopyWarning: \nA value is trying to be set on a copy of a slice from a DataFrame.\nTry using .loc[row_indexer,col_indexer] = value instead\n\nSee the caveats in the documentation: http://pandas.pydata.org/pandas-docs/stable/user_guide/indexing.html#returning-a-view-versus-a-copy\n  \n",
      "c:\\users\\parastoo\\pycharmprojects\\yapaitek\\venv\\lib\\site-packages\\ipykernel_launcher.py:3: SettingWithCopyWarning: \nA value is trying to be set on a copy of a slice from a DataFrame.\nTry using .loc[row_indexer,col_indexer] = value instead\n\nSee the caveats in the documentation: http://pandas.pydata.org/pandas-docs/stable/user_guide/indexing.html#returning-a-view-versus-a-copy\n  This is separate from the ipykernel package so we can avoid doing imports until\nc:\\users\\parastoo\\pycharmprojects\\yapaitek\\venv\\lib\\site-packages\\ipykernel_launcher.py:4: SettingWithCopyWarning: \nA value is trying to be set on a copy of a slice from a DataFrame.\nTry using .loc[row_indexer,col_indexer] = value instead\n\nSee the caveats in the documentation: http://pandas.pydata.org/pandas-docs/stable/user_guide/indexing.html#returning-a-view-versus-a-copy\n  after removing the cwd from sys.path.\n"
     ],
     "output_type": "stream"
    }
   ],
   "source": [
    "data['Start_time'] = pd.to_datetime(data['Start_time'])\n",
    "data['Start_minutes'] = data['Start_time'].dt.hour * 60 + data['Start_time'].dt.minute + data['Start_time'].dt.second/60\n",
    "data['End_time'] = pd.to_datetime(data['End_time'])\n",
    "data['End_minutes'] = data['End_time'].dt.hour * 60 + data['End_time'].dt.minute + data['End_time'].dt.second/60\n",
    "data.drop('Start_time' , axis=1 , inplace= True)\n",
    "data.drop('End_time' , axis= 1 , inplace= True)"
   ]
  },
  {
   "cell_type": "code",
   "execution_count": 27,
   "metadata": {
    "pycharm": {
     "name": "#%%\n",
     "is_executing": false
    }
   },
   "outputs": [
    {
     "data": {
      "text/plain": "        Episode  Station  Channel Type  Season  Year        Date  Day of week  \\\n0             1        1             1       1     1  2016-08-29            1   \n1             2        1             1       1     1  2016-08-29            1   \n2             3        1             1       1     1  2016-08-29            1   \n3             4        1             1       1     1  2016-08-29            1   \n4             5        1             1       1     1  2016-08-29            1   \n...         ...      ...           ...     ...   ...         ...          ...   \n616651     1276       20             2       2     4  2019-01-22            2   \n616652     2580       20             2       2     4  2019-01-22            2   \n616653     6605       20             2       2     4  2019-01-22            2   \n616654     6605       20             2       2     4  2019-01-22            2   \n616655     6590       20             2       2     4  2019-01-22            2   \n\n        Length  Genre  First time or rerun  # of episode in the season  \\\n0            8      1                    0                           1   \n1            2      2                    0                           1   \n2            2      3                    0                           1   \n3            4      4                    0                           1   \n4            2      5                    0                           1   \n...        ...    ...                  ...                         ...   \n616651       2      7                    0                           1   \n616652       2      7                    0                           1   \n616653       4     22                    0                           1   \n616654       4     22                    0                           1   \n616655       2     22                    0                           1   \n\n        Movie?  Game of the Canadiens during episode?  Market Share_total  \\\n0            0                                      0                 0.9   \n1            0                                      0                 0.5   \n2            0                                      0                 0.3   \n3            0                                      0                 1.7   \n4            0                                      0                 2.2   \n...        ...                                    ...                 ...   \n616651       0                                      0                 0.0   \n616652       0                                      0                 1.1   \n616653       0                                      0                 0.3   \n616654       0                                      0                 0.4   \n616655       0                                      0                 1.6   \n\n        Start_minutes  End_minutes  \n0               360.0        480.0  \n1               480.0        510.0  \n2               510.0        540.0  \n3               540.0        600.0  \n4               600.0        630.0  \n...               ...          ...  \n616651          480.0        510.0  \n616652          510.0        540.0  \n616653          540.0        600.0  \n616654          600.0        660.0  \n616655          660.0        690.0  \n\n[616613 rows x 16 columns]",
      "text/html": "<div>\n<style scoped>\n    .dataframe tbody tr th:only-of-type {\n        vertical-align: middle;\n    }\n\n    .dataframe tbody tr th {\n        vertical-align: top;\n    }\n\n    .dataframe thead th {\n        text-align: right;\n    }\n</style>\n<table border=\"1\" class=\"dataframe\">\n  <thead>\n    <tr style=\"text-align: right;\">\n      <th></th>\n      <th>Episode</th>\n      <th>Station</th>\n      <th>Channel Type</th>\n      <th>Season</th>\n      <th>Year</th>\n      <th>Date</th>\n      <th>Day of week</th>\n      <th>Length</th>\n      <th>Genre</th>\n      <th>First time or rerun</th>\n      <th># of episode in the season</th>\n      <th>Movie?</th>\n      <th>Game of the Canadiens during episode?</th>\n      <th>Market Share_total</th>\n      <th>Start_minutes</th>\n      <th>End_minutes</th>\n    </tr>\n  </thead>\n  <tbody>\n    <tr>\n      <th>0</th>\n      <td>1</td>\n      <td>1</td>\n      <td>1</td>\n      <td>1</td>\n      <td>1</td>\n      <td>2016-08-29</td>\n      <td>1</td>\n      <td>8</td>\n      <td>1</td>\n      <td>0</td>\n      <td>1</td>\n      <td>0</td>\n      <td>0</td>\n      <td>0.9</td>\n      <td>360.0</td>\n      <td>480.0</td>\n    </tr>\n    <tr>\n      <th>1</th>\n      <td>2</td>\n      <td>1</td>\n      <td>1</td>\n      <td>1</td>\n      <td>1</td>\n      <td>2016-08-29</td>\n      <td>1</td>\n      <td>2</td>\n      <td>2</td>\n      <td>0</td>\n      <td>1</td>\n      <td>0</td>\n      <td>0</td>\n      <td>0.5</td>\n      <td>480.0</td>\n      <td>510.0</td>\n    </tr>\n    <tr>\n      <th>2</th>\n      <td>3</td>\n      <td>1</td>\n      <td>1</td>\n      <td>1</td>\n      <td>1</td>\n      <td>2016-08-29</td>\n      <td>1</td>\n      <td>2</td>\n      <td>3</td>\n      <td>0</td>\n      <td>1</td>\n      <td>0</td>\n      <td>0</td>\n      <td>0.3</td>\n      <td>510.0</td>\n      <td>540.0</td>\n    </tr>\n    <tr>\n      <th>3</th>\n      <td>4</td>\n      <td>1</td>\n      <td>1</td>\n      <td>1</td>\n      <td>1</td>\n      <td>2016-08-29</td>\n      <td>1</td>\n      <td>4</td>\n      <td>4</td>\n      <td>0</td>\n      <td>1</td>\n      <td>0</td>\n      <td>0</td>\n      <td>1.7</td>\n      <td>540.0</td>\n      <td>600.0</td>\n    </tr>\n    <tr>\n      <th>4</th>\n      <td>5</td>\n      <td>1</td>\n      <td>1</td>\n      <td>1</td>\n      <td>1</td>\n      <td>2016-08-29</td>\n      <td>1</td>\n      <td>2</td>\n      <td>5</td>\n      <td>0</td>\n      <td>1</td>\n      <td>0</td>\n      <td>0</td>\n      <td>2.2</td>\n      <td>600.0</td>\n      <td>630.0</td>\n    </tr>\n    <tr>\n      <th>...</th>\n      <td>...</td>\n      <td>...</td>\n      <td>...</td>\n      <td>...</td>\n      <td>...</td>\n      <td>...</td>\n      <td>...</td>\n      <td>...</td>\n      <td>...</td>\n      <td>...</td>\n      <td>...</td>\n      <td>...</td>\n      <td>...</td>\n      <td>...</td>\n      <td>...</td>\n      <td>...</td>\n    </tr>\n    <tr>\n      <th>616651</th>\n      <td>1276</td>\n      <td>20</td>\n      <td>2</td>\n      <td>2</td>\n      <td>4</td>\n      <td>2019-01-22</td>\n      <td>2</td>\n      <td>2</td>\n      <td>7</td>\n      <td>0</td>\n      <td>1</td>\n      <td>0</td>\n      <td>0</td>\n      <td>0.0</td>\n      <td>480.0</td>\n      <td>510.0</td>\n    </tr>\n    <tr>\n      <th>616652</th>\n      <td>2580</td>\n      <td>20</td>\n      <td>2</td>\n      <td>2</td>\n      <td>4</td>\n      <td>2019-01-22</td>\n      <td>2</td>\n      <td>2</td>\n      <td>7</td>\n      <td>0</td>\n      <td>1</td>\n      <td>0</td>\n      <td>0</td>\n      <td>1.1</td>\n      <td>510.0</td>\n      <td>540.0</td>\n    </tr>\n    <tr>\n      <th>616653</th>\n      <td>6605</td>\n      <td>20</td>\n      <td>2</td>\n      <td>2</td>\n      <td>4</td>\n      <td>2019-01-22</td>\n      <td>2</td>\n      <td>4</td>\n      <td>22</td>\n      <td>0</td>\n      <td>1</td>\n      <td>0</td>\n      <td>0</td>\n      <td>0.3</td>\n      <td>540.0</td>\n      <td>600.0</td>\n    </tr>\n    <tr>\n      <th>616654</th>\n      <td>6605</td>\n      <td>20</td>\n      <td>2</td>\n      <td>2</td>\n      <td>4</td>\n      <td>2019-01-22</td>\n      <td>2</td>\n      <td>4</td>\n      <td>22</td>\n      <td>0</td>\n      <td>1</td>\n      <td>0</td>\n      <td>0</td>\n      <td>0.4</td>\n      <td>600.0</td>\n      <td>660.0</td>\n    </tr>\n    <tr>\n      <th>616655</th>\n      <td>6590</td>\n      <td>20</td>\n      <td>2</td>\n      <td>2</td>\n      <td>4</td>\n      <td>2019-01-22</td>\n      <td>2</td>\n      <td>2</td>\n      <td>22</td>\n      <td>0</td>\n      <td>1</td>\n      <td>0</td>\n      <td>0</td>\n      <td>1.6</td>\n      <td>660.0</td>\n      <td>690.0</td>\n    </tr>\n  </tbody>\n</table>\n<p>616613 rows × 16 columns</p>\n</div>"
     },
     "metadata": {},
     "output_type": "execute_result",
     "execution_count": 27
    }
   ],
   "source": [
    "data\n"
   ]
  },
  {
   "cell_type": "markdown",
   "source": [
    "Trying different Models\n",
    "\n",
    "\n"
   ],
   "metadata": {
    "collapsed": false
   }
  },
  {
   "cell_type": "code",
   "execution_count": 28,
   "outputs": [
    {
     "name": "stderr",
     "text": [
      "c:\\users\\parastoo\\pycharmprojects\\yapaitek\\venv\\lib\\site-packages\\ipykernel_launcher.py:1: SettingWithCopyWarning: \nA value is trying to be set on a copy of a slice from a DataFrame.\nTry using .loc[row_indexer,col_indexer] = value instead\n\nSee the caveats in the documentation: http://pandas.pydata.org/pandas-docs/stable/user_guide/indexing.html#returning-a-view-versus-a-copy\n  \"\"\"Entry point for launching an IPython kernel.\n"
     ],
     "output_type": "stream"
    }
   ],
   "source": [
    "data['Date']= data['Date'].map(date_map)"
   ],
   "metadata": {
    "collapsed": false,
    "pycharm": {
     "name": "#%%\n",
     "is_executing": false
    }
   }
  },
  {
   "cell_type": "code",
   "execution_count": 29,
   "outputs": [],
   "source": [
    "from sklearn.model_selection import train_test_split\n",
    "from sklearn.linear_model import LinearRegression\n",
    "from sklearn.model_selection import cross_val_score"
   ],
   "metadata": {
    "collapsed": false,
    "pycharm": {
     "name": "#%%\n",
     "is_executing": false
    }
   }
  },
  {
   "cell_type": "code",
   "execution_count": 30,
   "outputs": [],
   "source": [
    "y = data[\"Market Share_total\"]\n",
    "x = data.drop('Market Share_total', axis = 1)"
   ],
   "metadata": {
    "collapsed": false,
    "pycharm": {
     "name": "#%%\n",
     "is_executing": false
    }
   }
  },
  {
   "cell_type": "code",
   "execution_count": 31,
   "outputs": [],
   "source": [
    "from sklearn.model_selection import train_test_split\n",
    "x_train, x_test, y_train, y_test = train_test_split(x, y, test_size=0.3, random_state=0)"
   ],
   "metadata": {
    "collapsed": false,
    "pycharm": {
     "name": "#%%\n",
     "is_executing": false
    }
   }
  },
  {
   "cell_type": "code",
   "execution_count": 32,
   "outputs": [
    {
     "data": {
      "text/plain": "0.42857175954349686"
     },
     "metadata": {},
     "output_type": "execute_result",
     "execution_count": 32
    }
   ],
   "source": [
    "len(x_test)/len(x_train)"
   ],
   "metadata": {
    "collapsed": false,
    "pycharm": {
     "name": "#%%\n",
     "is_executing": false
    }
   }
  },
  {
   "cell_type": "code",
   "execution_count": 33,
   "outputs": [
    {
     "name": "stdout",
     "text": [
      "r2:  0.8311691131646366\nmaeL  1.1564827228300825\n"
     ],
     "output_type": "stream"
    }
   ],
   "source": [
    "from sklearn.tree import DecisionTreeRegressor\n",
    "from sklearn.metrics import r2_score , mean_absolute_error\n",
    "predictor = DecisionTreeRegressor(max_depth = 50)\n",
    "predictor.fit(x_train,y_train)\n",
    "y_predicted = predictor.predict(x_test )\n",
    "print(\"r2: \" ,r2_score(y_test , y_predicted))\n",
    "print(\"maeL \",mean_absolute_error(y_test,y_predicted))"
   ],
   "metadata": {
    "collapsed": false,
    "pycharm": {
     "name": "#%%\n",
     "is_executing": false
    }
   }
  },
  {
   "cell_type": "code",
   "execution_count": 34,
   "outputs": [
    {
     "name": "stdout",
     "text": [
      "[0.82851089 0.82594705 0.82064177 0.82089932 0.82233299]\n"
     ],
     "output_type": "stream"
    }
   ],
   "source": [
    "cv_r2_scores = cross_val_score( predictor, x_train , y_train, cv=5,scoring='r2')\n",
    "print(cv_r2_scores)"
   ],
   "metadata": {
    "collapsed": false,
    "pycharm": {
     "name": "#%%\n",
     "is_executing": false
    }
   }
  },
  {
   "cell_type": "code",
   "execution_count": 35,
   "outputs": [],
   "source": [
    "cv_score = cross_val_score( predictor, x_train , y_train, cv=5,scoring='r2')\n"
   ],
   "metadata": {
    "collapsed": false,
    "pycharm": {
     "name": "#%%\n",
     "is_executing": false
    }
   }
  },
  {
   "cell_type": "code",
   "execution_count": 36,
   "outputs": [
    {
     "data": {
      "text/plain": "0.8221844363667234"
     },
     "metadata": {},
     "output_type": "execute_result",
     "execution_count": 36
    }
   ],
   "source": [
    "np.mean(cv_score)\n"
   ],
   "metadata": {
    "collapsed": false,
    "pycharm": {
     "name": "#%%\n",
     "is_executing": false
    }
   }
  },
  {
   "cell_type": "code",
   "execution_count": 37,
   "outputs": [
    {
     "data": {
      "text/plain": "0.004318615562350684"
     },
     "metadata": {},
     "output_type": "execute_result",
     "execution_count": 37
    }
   ],
   "source": [
    "np.std(cv_score)"
   ],
   "metadata": {
    "collapsed": false,
    "pycharm": {
     "name": "#%%\n",
     "is_executing": false
    }
   }
  },
  {
   "cell_type": "code",
   "execution_count": null,
   "outputs": [],
   "source": [
    "import xgboost as xgb\n",
    "\n",
    "params = {'eval_metric':'rmse'}\n",
    "xm = xgb.DMatrix(x_train, label=y_train)\n",
    "xmodel = xgb.train(params, xm)\n",
    "y_predicted = xmodel.predict(xgb.DMatrix(x_test))\n",
    "print(\"r2: \" ,r2_score(y_test , y_predicted))\n",
    "print(\"maeL \",mean_absolute_error(y_test,y_predicted))"
   ],
   "metadata": {
    "collapsed": false,
    "pycharm": {
     "name": "#%%\n"
    }
   }
  },
  {
   "cell_type": "code",
   "execution_count": 38,
   "outputs": [
    {
     "name": "stdout",
     "text": [
      "r2:  0.9011078776070641\nmae  0.9205173204169009\n"
     ],
     "output_type": "stream"
    }
   ],
   "source": [
    "from sklearn.ensemble import RandomForestRegressor\n",
    "predictor = RandomForestRegressor()\n",
    "predictor.fit(x_train,y_train)\n",
    "y_predicted = predictor.predict(x_test )\n",
    "print(\"r2: \" ,r2_score(y_test , y_predicted))\n",
    "print(\"mae \",mean_absolute_error(y_test,y_predicted))"
   ],
   "metadata": {
    "collapsed": false,
    "pycharm": {
     "name": "#%%\n",
     "is_executing": false
    }
   }
  },
  {
   "cell_type": "code",
   "execution_count": 75,
   "outputs": [
    {
     "name": "stderr",
     "text": [
      "c:\\users\\parastoo\\pycharmprojects\\yapaitek\\venv\\lib\\site-packages\\ipykernel_launcher.py:2: SettingWithCopyWarning: \nA value is trying to be set on a copy of a slice from a DataFrame.\nTry using .loc[row_indexer,col_indexer] = value instead\n\nSee the caveats in the documentation: http://pandas.pydata.org/pandas-docs/stable/user_guide/indexing.html#returning-a-view-versus-a-copy\n  \n"
     ],
     "output_type": "stream"
    },
    {
     "data": {
      "text/plain": "<Figure size 432x288 with 1 Axes>",
      "image/png": "[encoded data removed]"
     },
     "metadata": {
      "needs_background": "light"
     },
     "output_type": "display_data"
    }
   ],
   "source": [
    "import matplotlib.pyplot as plt\n",
    "x_test['id']  = range( 1, len(x_test) +1)\n",
    "fig, ax = plt.subplots()\n",
    "ax.plot(x_test['id'].tolist(), y_predicted, label=\"cat\")\n",
    "ax.plot(x_test['id'].tolist(), y_test, label=\"dog\")\n",
    "\n",
    "ax.legend()\n",
    "#ax.scatter(x_test['id'].tolist(), y_test)\n",
    "import random as rnd\n",
    "randomStartIndex = rnd.randrange(1,len(x_test) - 101);\n",
    "plt.xlim(randomStartIndex, randomStartIndex + 100 )\n",
    "plt.show()"
   ],
   "metadata": {
    "collapsed": false,
    "pycharm": {
     "name": "#%%\n",
     "is_executing": false
    }
   }
  },
  {
   "cell_type": "code",
   "execution_count": 62,
   "outputs": [],
   "source": [],
   "metadata": {
    "collapsed": false,
    "pycharm": {
     "name": "#%%\n",
     "is_executing": false
    }
   }
  },
  {
   "cell_type": "code",
   "execution_count": null,
   "outputs": [],
   "source": [
    "from sklearn.ensemble import AdaBoostRegressor\n",
    "predictor = AdaBoostRegressor( DecisionTreeRegressor(max_depth=50))\n",
    "predictor.fit(x_train,y_train)\n",
    "y_predicted = predictor.predict(x_test)\n",
    "print(\"r2: \" ,r2_score(y_test , y_predicted))\n",
    "print(\"mae \",mean_absolute_error(y_test,y_predicted))"
   ],
   "metadata": {
    "collapsed": false,
    "pycharm": {
     "name": "#%%\n"
    }
   }
  },
  {
   "cell_type": "code",
   "execution_count": null,
   "outputs": [],
   "source": [],
   "metadata": {
    "collapsed": false,
    "pycharm": {
     "name": "#%%\n"
    }
   }
  },
  {
   "cell_type": "code",
   "execution_count": null,
   "outputs": [],
   "source": [],
   "metadata": {
    "collapsed": false,
    "pycharm": {
     "name": "#%%\n"
    }
   }
  }
 ],
 "metadata": {
  "kernelspec": {
   "display_name": "Python 3",
   "language": "python",
   "name": "python3"
  },
  "language_info": {
   "codemirror_mode": {
    "name": "ipython",
    "version": 3
   },
   "file_extension": ".py",
   "mimetype": "text/x-python",
   "name": "python",
   "nbconvert_exporter": "python",
   "pygments_lexer": "ipython3",
   "version": "3.7.3"
  },
  "pycharm": {
   "stem_cell": {
    "cell_type": "raw",
    "source": [],
    "metadata": {
     "collapsed": false
    }
   }
  }
 },
 "nbformat": 4,
 "nbformat_minor": 1
}