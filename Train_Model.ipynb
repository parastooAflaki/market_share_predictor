{
 "cells": [
  {
   "cell_type": "code",
   "execution_count": 7,
   "metadata": {
    "pycharm": {
     "is_executing": false,
     "name": "#%%\n"
    }
   },
   "outputs": [],
   "source": [
    "import pandas as pd\n",
    "import matplotlib.pyplot as plt\n",
    "import numpy as np\n",
    "import random as rnd\n",
    "from sklearn.model_selection import train_test_split\n",
    "from sklearn.linear_model import LinearRegression\n",
    "from sklearn.model_selection import cross_val_score\n",
    "from sklearn.tree import DecisionTreeRegressor\n",
    "from sklearn.metrics import r2_score , mean_absolute_error"
   ]
  },
  {
   "cell_type": "code",
   "execution_count": 8,
   "metadata": {
    "pycharm": {
     "is_executing": false,
     "name": "#%%\n"
    }
   },
   "outputs": [],
   "source": [
    "def generate_index(list):\n",
    "    return {value: key for key, value in enumerate(list, 1)}\n",
    "\n",
    "\n",
    "def dropExtraColumns(data):\n",
    "    columns = data.columns\n",
    "    data.drop(columns[0], axis=1, inplace=True)\n",
    "    #data.drop('Temperature in Montreal during episode', axis=1, inplace=True)\n",
    "    data.drop('Name of episode', axis=1, inplace=True)\n",
    "    data.drop('Name of show', axis=1, inplace=True)\n",
    "    data.drop('Length',axis=1,inplace=True)\n",
    "    \n",
    "    \n",
    "\n",
    "def mapping(data):\n",
    "    \n",
    "    binary_map = {\"Yes\": 1, \"No\": 0}\n",
    "    episode_map = generate_index(data['Episode'].unique())\n",
    "    station_map = generate_index(data['Station'].unique())\n",
    "    season_map = generate_index(data['Season'].unique())\n",
    "    channel_map = generate_index(data['Channel Type'].unique())\n",
    "    year_map = generate_index(data[\"Year\"].unique())\n",
    "    week_map = generate_index(data['Day of week'].unique())\n",
    "    genre_map = generate_index(data['Genre'].unique())\n",
    "    date_map = generate_index(data['Date'].unique())\n",
    "\n",
    "   \n",
    "    data['Station'] = data['Station'].map(station_map)\n",
    "    data['Episode'] = data['Episode'].map(episode_map)\n",
    "    data['Channel Type'] = data['Channel Type'].map(channel_map)\n",
    "    data['Season'] = data['Season'].map(season_map)\n",
    "    data['Year'] = data[\"Year\"].map(year_map)\n",
    "    data['Day of week'] = data['Day of week'].map(week_map)\n",
    "    data['Genre'] = data['Genre'].map(genre_map)\n",
    "    data['First time or rerun'] = data['First time or rerun'].map(binary_map)\n",
    "    data['Movie?'] = data['Movie?'].map(binary_map)\n",
    "    data['# of episode in the season'] = data['# of episode in the season'].map(binary_map)\n",
    "    data['Game of the Canadiens during episode?'] = data['Game of the Canadiens during episode?'].map(binary_map)\n",
    "    data['Date'] = data['Date'].map(date_map)\n",
    "    "
   ]
  },
  {
   "cell_type": "code",
   "execution_count": 9,
   "metadata": {
    "pycharm": {
     "is_executing": false,
     "name": "#%%\n"
    }
   },
   "outputs": [],
   "source": [
    "#converting Start_time and End_time to minutes,adding Start_minutes and End_minutes column\n",
    "#then dropping the Start_time and End_time\n",
    "\n",
    "def processTime(data):\n",
    "    data['Start_time'] = pd.to_datetime(data['Start_time'])\n",
    "    data['Start_minutes'] = data['Start_time'].dt.hour * 60 + data['Start_time'].dt.minute + data[\n",
    "        'Start_time'].dt.second / 60\n",
    "    data['End_time'] = pd.to_datetime(data['End_time'])\n",
    "    data['End_minutes'] = data['End_time'].dt.hour * 60 + data['End_time'].dt.minute + data[\n",
    "        'End_time'].dt.second / 60\n",
    "    data.drop('Start_time', axis=1, inplace=True)\n",
    "    data.drop('End_time', axis=1, inplace=True)"
   ]
  },
  {
   "cell_type": "code",
   "execution_count": 10,
   "metadata": {
    "pycharm": {
     "is_executing": false,
     "name": "#%%\n"
    }
   },
   "outputs": [],
   "source": [
    "\n",
    "train_df = pd.read_csv('data.csv')\n"
   ]
  },
  {
   "cell_type": "code",
   "execution_count": 11,
   "metadata": {
    "pycharm": {
     "is_executing": false,
     "name": "#%%\n"
    }
   },
   "outputs": [
    {
     "data": {
      "text/plain": [
       "Episode                                   0\n",
       "Station                                   0\n",
       "Channel Type                              0\n",
       "Season                                    0\n",
       "Year                                      0\n",
       "Date                                      0\n",
       "Day of week                               0\n",
       "Genre                                     0\n",
       "First time or rerun                       0\n",
       "# of episode in the season                0\n",
       "Movie?                                    0\n",
       "Game of the Canadiens during episode?     0\n",
       "Market Share_total                        0\n",
       "Temperature in Montreal during episode    0\n",
       "Start_minutes                             0\n",
       "End_minutes                               0\n",
       "dtype: int64"
      ]
     },
     "execution_count": 11,
     "metadata": {},
     "output_type": "execute_result"
    }
   ],
   "source": [
    "#dropping decided features \n",
    "dropExtraColumns(train_df)\n",
    "#converting non numeric datas to numeric ones\n",
    "mapping(train_df)\n",
    "#converting Start_time and End_time to minutes\n",
    "processTime(train_df)\n",
    "#drop Nan data\n",
    "train_df = train_df.dropna(axis = 0)\n",
    "train_df.isnull().sum()"
   ]
  },
  {
   "cell_type": "code",
   "execution_count": 12,
   "metadata": {
    "pycharm": {
     "is_executing": false,
     "name": "#%%\n"
    }
   },
   "outputs": [
    {
     "data": {
      "text/html": [
       "<div>\n",
       "<style scoped>\n",
       "    .dataframe tbody tr th:only-of-type {\n",
       "        vertical-align: middle;\n",
       "    }\n",
       "\n",
       "    .dataframe tbody tr th {\n",
       "        vertical-align: top;\n",
       "    }\n",
       "\n",
       "    .dataframe thead th {\n",
       "        text-align: right;\n",
       "    }\n",
       "</style>\n",
       "<table border=\"1\" class=\"dataframe\">\n",
       "  <thead>\n",
       "    <tr style=\"text-align: right;\">\n",
       "      <th></th>\n",
       "      <th>Episode</th>\n",
       "      <th>Station</th>\n",
       "      <th>Channel Type</th>\n",
       "      <th>Season</th>\n",
       "      <th>Year</th>\n",
       "      <th>Date</th>\n",
       "      <th>Day of week</th>\n",
       "      <th>Genre</th>\n",
       "      <th>First time or rerun</th>\n",
       "      <th># of episode in the season</th>\n",
       "      <th>Movie?</th>\n",
       "      <th>Game of the Canadiens during episode?</th>\n",
       "      <th>Market Share_total</th>\n",
       "      <th>Temperature in Montreal during episode</th>\n",
       "      <th>Start_minutes</th>\n",
       "      <th>End_minutes</th>\n",
       "    </tr>\n",
       "  </thead>\n",
       "  <tbody>\n",
       "    <tr>\n",
       "      <th>0</th>\n",
       "      <td>1</td>\n",
       "      <td>1</td>\n",
       "      <td>1</td>\n",
       "      <td>1</td>\n",
       "      <td>1</td>\n",
       "      <td>1</td>\n",
       "      <td>1</td>\n",
       "      <td>1</td>\n",
       "      <td>0</td>\n",
       "      <td>1</td>\n",
       "      <td>0</td>\n",
       "      <td>0</td>\n",
       "      <td>0.9</td>\n",
       "      <td>20.400</td>\n",
       "      <td>360.0</td>\n",
       "      <td>480.0</td>\n",
       "    </tr>\n",
       "    <tr>\n",
       "      <th>1</th>\n",
       "      <td>2</td>\n",
       "      <td>1</td>\n",
       "      <td>1</td>\n",
       "      <td>1</td>\n",
       "      <td>1</td>\n",
       "      <td>1</td>\n",
       "      <td>1</td>\n",
       "      <td>2</td>\n",
       "      <td>0</td>\n",
       "      <td>1</td>\n",
       "      <td>0</td>\n",
       "      <td>0</td>\n",
       "      <td>0.5</td>\n",
       "      <td>19.125</td>\n",
       "      <td>480.0</td>\n",
       "      <td>510.0</td>\n",
       "    </tr>\n",
       "    <tr>\n",
       "      <th>2</th>\n",
       "      <td>3</td>\n",
       "      <td>1</td>\n",
       "      <td>1</td>\n",
       "      <td>1</td>\n",
       "      <td>1</td>\n",
       "      <td>1</td>\n",
       "      <td>1</td>\n",
       "      <td>3</td>\n",
       "      <td>0</td>\n",
       "      <td>1</td>\n",
       "      <td>0</td>\n",
       "      <td>0</td>\n",
       "      <td>0.3</td>\n",
       "      <td>19.125</td>\n",
       "      <td>510.0</td>\n",
       "      <td>540.0</td>\n",
       "    </tr>\n",
       "  </tbody>\n",
       "</table>\n",
       "</div>"
      ],
      "text/plain": [
       "   Episode  Station  Channel Type  Season  Year  Date  Day of week  Genre  \\\n",
       "0        1        1             1       1     1     1            1      1   \n",
       "1        2        1             1       1     1     1            1      2   \n",
       "2        3        1             1       1     1     1            1      3   \n",
       "\n",
       "   First time or rerun  # of episode in the season  Movie?  \\\n",
       "0                    0                           1       0   \n",
       "1                    0                           1       0   \n",
       "2                    0                           1       0   \n",
       "\n",
       "   Game of the Canadiens during episode?  Market Share_total  \\\n",
       "0                                      0                 0.9   \n",
       "1                                      0                 0.5   \n",
       "2                                      0                 0.3   \n",
       "\n",
       "   Temperature in Montreal during episode  Start_minutes  End_minutes  \n",
       "0                                  20.400          360.0        480.0  \n",
       "1                                  19.125          480.0        510.0  \n",
       "2                                  19.125          510.0        540.0  "
      ]
     },
     "execution_count": 12,
     "metadata": {},
     "output_type": "execute_result"
    }
   ],
   "source": [
    "train_df.head(3)"
   ]
  },
  {
   "cell_type": "markdown",
   "metadata": {
    "pycharm": {
     "name": "#%% md\n"
    }
   },
   "source": [
    "# Trying Different Models\n",
    "\n",
    "#### here i will train and test some different models then i'll compare the r2score and mae to choose the best for predicting test data.\n",
    "### I'll choose 70 percent of train set for training the models and the rest 30 percent for testing the trained model on."
   ]
  },
  {
   "cell_type": "code",
   "execution_count": 14,
   "metadata": {
    "pycharm": {
     "is_executing": false,
     "name": "#%%\n"
    }
   },
   "outputs": [],
   "source": [
    "y = train_df[\"Market Share_total\"]\n",
    "x = train_df.drop('Market Share_total', axis = 1)"
   ]
  },
  {
   "cell_type": "code",
   "execution_count": 15,
   "metadata": {
    "pycharm": {
     "is_executing": false,
     "name": "#%%\n"
    }
   },
   "outputs": [],
   "source": [
    "from sklearn.model_selection import train_test_split\n",
    "x_train, x_test, y_train, y_test = train_test_split(x, y, test_size=0.3, random_state=0)"
   ]
  },
  {
   "cell_type": "markdown",
   "metadata": {
    "pycharm": {
     "name": "#%% md\n"
    }
   },
   "source": [
    "### DecisionTreeRegressor"
   ]
  },
  {
   "cell_type": "code",
   "execution_count": 16,
   "metadata": {
    "pycharm": {
     "is_executing": false,
     "name": "#%%\n"
    }
   },
   "outputs": [
    {
     "name": "stdout",
     "output_type": "stream",
     "text": [
      "r2:  0.8343107691440931\n",
      "mae:  1.1585431328674827\n"
     ]
    }
   ],
   "source": [
    "predictor = DecisionTreeRegressor(max_depth = 50)\n",
    "predictor.fit(x_train,y_train)\n",
    "y_predicted = predictor.predict(x_test )\n",
    "print(\"r2: \" ,r2_score(y_test , y_predicted))\n",
    "print(\"mae: \",mean_absolute_error(y_test,y_predicted))"
   ]
  },
  {
   "cell_type": "markdown",
   "metadata": {},
   "source": [
    "### Here we use the cross validation in other to prevent overfitting"
   ]
  },
  {
   "cell_type": "code",
   "execution_count": 17,
   "metadata": {
    "pycharm": {
     "is_executing": false,
     "name": "#%%\n"
    }
   },
   "outputs": [
    {
     "name": "stdout",
     "output_type": "stream",
     "text": [
      "cv fo each fold:  [0.82763942 0.81905511 0.82442371 0.8303261  0.82681474]\n",
      "cv_score mean  0.8256518148239183\n",
      "cv_score std  0.003799385984458235\n"
     ]
    }
   ],
   "source": [
    "cv_score = cross_val_score( predictor, x_train , y_train, cv=5,scoring='r2')\n",
    "print('cv fo each fold: ',cv_score)\n",
    "print(\"cv_score mean \" , np.mean(cv_score))\n",
    "print(\"cv_score std \",np.std(cv_score))"
   ]
  },
  {
   "cell_type": "markdown",
   "metadata": {
    "pycharm": {
     "name": "#%% md\n"
    }
   },
   "source": [
    "## Gradient boost"
   ]
  },
  {
   "cell_type": "code",
   "execution_count": 11,
   "metadata": {
    "pycharm": {
     "is_executing": false,
     "name": "#%%\n"
    }
   },
   "outputs": [
    {
     "name": "stderr",
     "output_type": "stream",
     "text": [
      "c:\\users\\parastoo\\appdata\\local\\programs\\python\\python37\\lib\\site-packages\\xgboost\\core.py:587: FutureWarning: Series.base is deprecated and will be removed in a future version\n",
      "  if getattr(data, 'base', None) is not None and \\\n"
     ]
    },
    {
     "name": "stdout",
     "output_type": "stream",
     "text": [
      "r2:  0.8313600277367006\n",
      "mae  1.2435664006187324\n"
     ]
    }
   ],
   "source": [
    "import xgboost as xgb\n",
    "params = {'eval_metric':'rmse'}\n",
    "xm = xgb.DMatrix(x_train, label=y_train)\n",
    "xmodel = xgb.train(params, xm)\n",
    "y_predicted = xmodel.predict(xgb.DMatrix(x_test))\n",
    "print(\"r2: \" ,r2_score(y_test , y_predicted))\n",
    "print(\"mae \",mean_absolute_error(y_test,y_predicted))"
   ]
  },
  {
   "cell_type": "markdown",
   "metadata": {
    "pycharm": {
     "name": "#%% md\n"
    }
   },
   "source": [
    "## AdaBoostRegressor"
   ]
  },
  {
   "cell_type": "code",
   "execution_count": 12,
   "metadata": {
    "pycharm": {
     "is_executing": false,
     "name": "#%%\n"
    }
   },
   "outputs": [
    {
     "name": "stdout",
     "output_type": "stream",
     "text": [
      "r2:  0.896242822562723\n",
      "mae  0.912652974486543\n"
     ]
    }
   ],
   "source": [
    "from sklearn.ensemble import AdaBoostRegressor\n",
    "predictor = AdaBoostRegressor( DecisionTreeRegressor(max_depth=50))\n",
    "predictor.fit(x_train,y_train)\n",
    "y_predicted = predictor.predict(x_test)\n",
    "print(\"r2: \" ,r2_score(y_test , y_predicted))\n",
    "print(\"mae \",mean_absolute_error(y_test,y_predicted))"
   ]
  },
  {
   "cell_type": "markdown",
   "metadata": {
    "pycharm": {
     "name": "#%% md\n"
    }
   },
   "source": [
    "## RandomForestRegressor"
   ]
  },
  {
   "cell_type": "code",
   "execution_count": 13,
   "metadata": {
    "pycharm": {
     "is_executing": false,
     "name": "#%%\n"
    }
   },
   "outputs": [
    {
     "name": "stdout",
     "output_type": "stream",
     "text": [
      "r2:  0.9010725207035502\n",
      "mae:  0.925582646849257\n"
     ]
    }
   ],
   "source": [
    "from sklearn.ensemble import RandomForestRegressor\n",
    "predictor = RandomForestRegressor(n_estimators=10)\n",
    "predictor.fit(x_train,y_train)\n",
    "y_predicted = predictor.predict(x_test )\n",
    "print(\"r2: \" ,r2_score(y_test , y_predicted))\n",
    "print(\"mae: \",mean_absolute_error(y_test,y_predicted))"
   ]
  },
  {
   "cell_type": "code",
   "execution_count": 18,
   "metadata": {},
   "outputs": [
    {
     "name": "stdout",
     "output_type": "stream",
     "text": [
      "cv for wach fold:  [0.82746912 0.81997865 0.82380578 0.82546694 0.82614386]\n",
      "r2 cv_score mean  0.8245728710021698\n",
      "r2 cv_score std  0.0025826694730349325\n"
     ]
    }
   ],
   "source": [
    "cv_score = cross_val_score( predictor, x_train , y_train, cv=5,scoring='r2')\n",
    "print('cv for wach fold: ',cv_score)\n",
    "print(\"r2 cv_score mean \" , np.mean(cv_score))\n",
    "print(\"r2 cv_score std \",np.std(cv_score))"
   ]
  },
  {
   "cell_type": "markdown",
   "metadata": {
    "pycharm": {
     "name": "#%% md\n"
    }
   },
   "source": [
    "### SO it appears that ensemble model \" _RandomForestRegressor\"  is the best here i'm gonna plot both __predicted y__ and the __actual y__ from some random portion of the data"
   ]
  },
  {
   "cell_type": "markdown",
   "metadata": {},
   "source": [
    " # Below, i'm gonna plot both '__predicted y__' and the '__actual y__' from some random portion of the data to compare."
   ]
  },
  {
   "cell_type": "code",
   "execution_count": 19,
   "metadata": {},
   "outputs": [
    {
     "name": "stderr",
     "output_type": "stream",
     "text": [
      "c:\\users\\parastoo\\appdata\\local\\programs\\python\\python37\\lib\\site-packages\\ipykernel_launcher.py:1: SettingWithCopyWarning: \n",
      "A value is trying to be set on a copy of a slice from a DataFrame.\n",
      "Try using .loc[row_indexer,col_indexer] = value instead\n",
      "\n",
      "See the caveats in the documentation: http://pandas.pydata.org/pandas-docs/stable/user_guide/indexing.html#returning-a-view-versus-a-copy\n",
      "  \"\"\"Entry point for launching an IPython kernel.\n"
     ]
    }
   ],
   "source": [
    "\n",
    " x_test['id']  = range( 1, len(x_test) +1)  #adding id column to x_test"
   ]
  },
  {
   "cell_type": "code",
   "execution_count": 26,
   "metadata": {
    "pycharm": {
     "is_executing": false,
     "name": "#%%\n"
    }
   },
   "outputs": [
    {
     "data": {
      "image/png": "[encoded data removed]",
      "text/plain": [
       "<Figure size 432x288 with 1 Axes>"
      ]
     },
     "metadata": {
      "needs_background": "light"
     },
     "output_type": "display_data"
    }
   ],
   "source": [
    "fig, ax = plt.subplots()\n",
    "ax.plot(x_test['id'].tolist(), y_predicted, label=\"pre\")\n",
    "ax.plot(x_test['id'].tolist(), y_test, label=\"actual\")\n",
    "ax.legend()\n",
    "\n",
    "randomStartIndex = rnd.randrange(1,len(x_test) - 101)\n",
    "plt.xlim(randomStartIndex, randomStartIndex + 100 )\n",
    "plt.show()"
   ]
  },
  {
   "cell_type": "code",
   "execution_count": 27,
   "metadata": {
    "pycharm": {
     "name": "#%%\n"
    }
   },
   "outputs": [
    {
     "data": {
      "image/png": "[encoded data removed]",
      "text/plain": [
       "<Figure size 432x288 with 1 Axes>"
      ]
     },
     "metadata": {
      "needs_background": "light"
     },
     "output_type": "display_data"
    }
   ],
   "source": [
    "fig, ax = plt.subplots()\n",
    "ax.plot(x_test['id'].tolist(), y_predicted, label=\"pre\")\n",
    "ax.plot(x_test['id'].tolist(), y_test, label=\"actual\")\n",
    "ax.legend()\n",
    "\n",
    "randomStartIndex = rnd.randrange(1,len(x_test) - 101)\n",
    "plt.xlim(randomStartIndex, randomStartIndex + 100 )\n",
    "plt.show()"
   ]
  },
  {
   "cell_type": "code",
   "execution_count": 33,
   "metadata": {
    "pycharm": {
     "name": "#%%\n"
    }
   },
   "outputs": [
    {
     "data": {
      "image/png": "[encoded data removed]",
      "text/plain": [
       "<Figure size 432x288 with 1 Axes>"
      ]
     },
     "metadata": {
      "needs_background": "light"
     },
     "output_type": "display_data"
    }
   ],
   "source": [
    "fig, ax = plt.subplots()\n",
    "ax.plot(x_test['id'].tolist(), y_predicted, label=\"pre\")\n",
    "ax.plot(x_test['id'].tolist(), y_test, label=\"actual\")\n",
    "ax.legend()\n",
    "\n",
    "randomStartIndex = rnd.randrange(1,len(x_test) - 101)\n",
    "plt.xlim(randomStartIndex, randomStartIndex + 100 )\n",
    "plt.show()\n",
    "\n",
    "\n"
   ]
  },
  {
   "cell_type": "markdown",
   "metadata": {},
   "source": [
    "### So as we see the predicted market share is very close to the actual one!"
   ]
  }
 ],
 "metadata": {
  "kernelspec": {
   "display_name": "Python 3",
   "language": "python",
   "name": "python3"
  },
  "language_info": {
   "codemirror_mode": {
    "name": "ipython",
    "version": 3
   },
   "file_extension": ".py",
   "mimetype": "text/x-python",
   "name": "python",
   "nbconvert_exporter": "python",
   "pygments_lexer": "ipython3",
   "version": "3.7.3"
  },
  "pycharm": {
   "stem_cell": {
    "cell_type": "raw",
    "source": [],
    "metadata": {
     "collapsed": false
    }
   }
  }
 },
 "nbformat": 4,
 "nbformat_minor": 1
}